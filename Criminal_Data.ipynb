{
 "cells": [
  {
   "cell_type": "code",
   "execution_count": null,
   "metadata": {
    "collapsed": false
   },
   "outputs": [],
   "source": [
    "import sklearn.cluster as cluster\n",
    "import matplotlib.pyplot as plt\n",
    "import numpy as np\n",
    "import re\n",
    "import pandas as pd\n",
    "from collections import Counter"
   ]
  },
  {
   "cell_type": "code",
   "execution_count": null,
   "metadata": {
    "collapsed": false
   },
   "outputs": [],
   "source": [
    "Crimes = pd.read_csv('crime.csv')\n",
    "CrimesData = Crimes.as_matrix()\n",
    "Date = CrimesData[:,[3,8]]"
   ]
  },
  {
   "cell_type": "code",
   "execution_count": null,
   "metadata": {
    "collapsed": false
   },
   "outputs": [],
   "source": [
    "Pattern = []\n",
    "Pattern.append(re.compile(\"2006\"))\n",
    "Pattern.append(re.compile(\"2007\"))\n",
    "Pattern.append(re.compile(\"2008\"))\n",
    "Pattern.append(re.compile(\"2009\"))\n",
    "Pattern.append(re.compile(\"2010\"))\n",
    "Pattern.append(re.compile(\"2011\"))\n",
    "Pattern.append(re.compile(\"2012\"))\n",
    "Pattern.append(re.compile(\"2013\"))\n",
    "Pattern.append(re.compile(\"2014\"))\n",
    "Pattern.append(re.compile(\"2015\"))\n",
    "DateSort = [[],[],[],[],[],[],[],[],[],[]]\n",
    "\n",
    "j = 0;\n",
    "for i in Date[:,0].flat:\n",
    "    for k in range(0,9):\n",
    "        if Pattern[k].match(i):\n",
    "            DateSort[k].append(Date[j])\n",
    "    j = j+1\n",
    "        \n"
   ]
  },
  {
   "cell_type": "code",
   "execution_count": null,
   "metadata": {
    "collapsed": true
   },
   "outputs": [],
   "source": []
  },
  {
   "cell_type": "code",
   "execution_count": null,
   "metadata": {
    "collapsed": false
   },
   "outputs": [],
   "source": [
    "plotWidth = 10\n",
    "\n",
    "#    for j in i:\n",
    "#        for k in j:\n",
    "#            if type(k)==str:\n",
    "#               if Pattern[0].match(k):\n",
    "#                    x.append(k)\n",
    "#            else:\n",
    "#                y.append(k)\n",
    "                \n",
    "                \n",
    "Arr2006 = np.array(DateSort[0])\n",
    "Arr2007 = np.array(DateSort[1])\n",
    "Arr2008 = np.array(DateSort[2])\n",
    "Arr2009 = np.array(DateSort[2])\n",
    "Arr20010 = np.array(DateSort[2])\n",
    "Counts2006 = Counter(Arr2006[:,1])\n",
    "Counts2007 = Counter(Arr2007[:,1])\n",
    "Counts2008 = Counter(Arr2008[:,1])\n",
    "Counts2009 = Counter(Arr2009[:,1])\n",
    "Counts20010 = Counter(Arr20010[:,1])\n",
    "x = np.array(list(Counts2006.keys()))\n",
    "y = np.array(list(Counts2006.values()))\n",
    "y1 = np.array(list(Counts2007.values()))\n",
    "y2 = np.array(list(Counts2008.values()))\n",
    "y3 = np.array(list(Counts2009.values()))\n",
    "y4 = np.array(list(Counts20010.values()))\n",
    "x1 = []\n",
    "x2 = []\n",
    "x3 = []\n",
    "x4 = []\n",
    "for i in x:\n",
    "    x1.append(i-plotWidth)\n",
    "    x2.append(i+plotWidth)\n",
    "    x3.append(i-2*plotWidth)\n",
    "    x4.append(i+2*plotWidth)"
   ]
  },
  {
   "cell_type": "code",
   "execution_count": null,
   "metadata": {
    "collapsed": false
   },
   "outputs": [],
   "source": [
    "ax = plt.subplot(111)\n",
    "ax.bar(x1, y,width=plotWidth,color='b',align='center')\n",
    "ax.bar(x, y1,width=plotWidth,color='g',align='center')\n",
    "ax.bar(x2, y2,width=plotWidth,color='r',align='center')\n",
    "ax.bar(x3, y3,width=plotWidth,color='m',align='center')\n",
    "ax.bar(x4, y4,width=plotWidth,color='b',align='center')\n",
    "\n",
    "plt.show()"
   ]
  },
  {
   "cell_type": "code",
   "execution_count": null,
   "metadata": {
    "collapsed": true
   },
   "outputs": [],
   "source": []
  }
 ],
 "metadata": {
  "kernelspec": {
   "display_name": "Python [Root]",
   "language": "python",
   "name": "Python [Root]"
  },
  "language_info": {
   "codemirror_mode": {
    "name": "ipython",
    "version": 3
   },
   "file_extension": ".py",
   "mimetype": "text/x-python",
   "name": "python",
   "nbconvert_exporter": "python",
   "pygments_lexer": "ipython3",
   "version": "3.5.2"
  }
 },
 "nbformat": 4,
 "nbformat_minor": 0
}

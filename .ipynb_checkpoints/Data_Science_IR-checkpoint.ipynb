{
 "cells": [
  {
   "cell_type": "code",
   "execution_count": 11,
   "metadata": {
    "collapsed": false
   },
   "outputs": [],
   "source": [
    "import sklearn as sk\n",
    "import numpy as np\n",
    "import pandas as pd\n",
    "\n"
   ]
  },
  {
   "cell_type": "code",
   "execution_count": 16,
   "metadata": {
    "collapsed": false
   },
   "outputs": [
    {
     "data": {
      "text/plain": [
       "<bound method NDFrame.as_matrix of       Id  SepalLengthCm  SepalWidthCm  PetalLengthCm  PetalWidthCm\n",
       "0      1            5.1           3.5            1.4           0.2\n",
       "1      2            4.9           3.0            1.4           0.2\n",
       "2      3            4.7           3.2            1.3           0.2\n",
       "3      4            4.6           3.1            1.5           0.2\n",
       "4      5            5.0           3.6            1.4           0.2\n",
       "5      6            5.4           3.9            1.7           0.4\n",
       "6      7            4.6           3.4            1.4           0.3\n",
       "7      8            5.0           3.4            1.5           0.2\n",
       "8      9            4.4           2.9            1.4           0.2\n",
       "9     10            4.9           3.1            1.5           0.1\n",
       "10    11            5.4           3.7            1.5           0.2\n",
       "11    12            4.8           3.4            1.6           0.2\n",
       "12    13            4.8           3.0            1.4           0.1\n",
       "13    14            4.3           3.0            1.1           0.1\n",
       "14    15            5.8           4.0            1.2           0.2\n",
       "15    16            5.7           4.4            1.5           0.4\n",
       "16    17            5.4           3.9            1.3           0.4\n",
       "17    18            5.1           3.5            1.4           0.3\n",
       "18    19            5.7           3.8            1.7           0.3\n",
       "19    20            5.1           3.8            1.5           0.3\n",
       "20    21            5.4           3.4            1.7           0.2\n",
       "21    22            5.1           3.7            1.5           0.4\n",
       "22    23            4.6           3.6            1.0           0.2\n",
       "23    24            5.1           3.3            1.7           0.5\n",
       "24    25            4.8           3.4            1.9           0.2\n",
       "25    26            5.0           3.0            1.6           0.2\n",
       "26    27            5.0           3.4            1.6           0.4\n",
       "27    28            5.2           3.5            1.5           0.2\n",
       "28    29            5.2           3.4            1.4           0.2\n",
       "29    30            4.7           3.2            1.6           0.2\n",
       "..   ...            ...           ...            ...           ...\n",
       "120  121            6.9           3.2            5.7           2.3\n",
       "121  122            5.6           2.8            4.9           2.0\n",
       "122  123            7.7           2.8            6.7           2.0\n",
       "123  124            6.3           2.7            4.9           1.8\n",
       "124  125            6.7           3.3            5.7           2.1\n",
       "125  126            7.2           3.2            6.0           1.8\n",
       "126  127            6.2           2.8            4.8           1.8\n",
       "127  128            6.1           3.0            4.9           1.8\n",
       "128  129            6.4           2.8            5.6           2.1\n",
       "129  130            7.2           3.0            5.8           1.6\n",
       "130  131            7.4           2.8            6.1           1.9\n",
       "131  132            7.9           3.8            6.4           2.0\n",
       "132  133            6.4           2.8            5.6           2.2\n",
       "133  134            6.3           2.8            5.1           1.5\n",
       "134  135            6.1           2.6            5.6           1.4\n",
       "135  136            7.7           3.0            6.1           2.3\n",
       "136  137            6.3           3.4            5.6           2.4\n",
       "137  138            6.4           3.1            5.5           1.8\n",
       "138  139            6.0           3.0            4.8           1.8\n",
       "139  140            6.9           3.1            5.4           2.1\n",
       "140  141            6.7           3.1            5.6           2.4\n",
       "141  142            6.9           3.1            5.1           2.3\n",
       "142  143            5.8           2.7            5.1           1.9\n",
       "143  144            6.8           3.2            5.9           2.3\n",
       "144  145            6.7           3.3            5.7           2.5\n",
       "145  146            6.7           3.0            5.2           2.3\n",
       "146  147            6.3           2.5            5.0           1.9\n",
       "147  148            6.5           3.0            5.2           2.0\n",
       "148  149            6.2           3.4            5.4           2.3\n",
       "149  150            5.9           3.0            5.1           1.8\n",
       "\n",
       "[150 rows x 5 columns]>"
      ]
     },
     "execution_count": 16,
     "metadata": {},
     "output_type": "execute_result"
    }
   ],
   "source": [
    "Iris = pd.read_csv('Iris.csv')\n",
    "IrisData = Iris.drop('Species',1).as_matrix\n",
    "IrisData"
   ]
  },
  {
   "cell_type": "code",
   "execution_count": null,
   "metadata": {
    "collapsed": true
   },
   "outputs": [],
   "source": []
  }
 ],
 "metadata": {
  "kernelspec": {
   "display_name": "Python [Root]",
   "language": "python",
   "name": "Python [Root]"
  },
  "language_info": {
   "codemirror_mode": {
    "name": "ipython",
    "version": 3
   },
   "file_extension": ".py",
   "mimetype": "text/x-python",
   "name": "python",
   "nbconvert_exporter": "python",
   "pygments_lexer": "ipython3",
   "version": "3.5.2"
  }
 },
 "nbformat": 4,
 "nbformat_minor": 0
}

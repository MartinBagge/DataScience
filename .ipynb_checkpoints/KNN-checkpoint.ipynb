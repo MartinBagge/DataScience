{
 "cells": [
  {
   "cell_type": "code",
   "execution_count": null,
   "metadata": {
    "collapsed": false
   },
   "outputs": [],
   "source": [
    "#%run INIT.ipynb"
   ]
  },
  {
   "cell_type": "code",
   "execution_count": null,
   "metadata": {
    "collapsed": false
   },
   "outputs": [],
   "source": [
    "#scores = []\n",
    "#k = range(40,60)\n",
    "#y_real = [x for x in y_test]\n",
    "#for x in k:\n",
    "#    knn = KNNCLF(n_neighbors=x, n_jobs=-1, weights='distance')\n",
    "#    y = [x for x in y_train]\n",
    "#    y_ = knn.fit(X_train,y)\n",
    "#    scores.append(y_.score(X_test, y_real))"
   ]
  },
  {
   "cell_type": "code",
   "execution_count": null,
   "metadata": {
    "collapsed": false
   },
   "outputs": [],
   "source": [
    "X_predict = X_test\n",
    "y_real = [x for x in y_test]\n",
    "X = X_train\n",
    "y = [x for x in y_train]\n",
    "knn = KNNCLF(n_neighbors=52, n_jobs=-1, weights='uniform')\n",
    "y_ = knn.fit(X,y)"
   ]
  },
  {
   "cell_type": "code",
   "execution_count": null,
   "metadata": {
    "collapsed": false
   },
   "outputs": [],
   "source": [
    "knnscores = cross_val(knn, X_train, [x for x in y_train], cv=10)\n",
    "knnciRaw = stats.norm.interval(0.95, loc=knnscores.mean(), scale=knnscores.std())\n",
    "knnci = knnciRaw[1]-knnciRaw[0]\n",
    "knnscoreMean = knnscores.mean()"
   ]
  },
  {
   "cell_type": "code",
   "execution_count": null,
   "metadata": {
    "collapsed": false
   },
   "outputs": [],
   "source": [
    "print('%0.003f +- %0.003f' % (knnscoreMean,knnci))"
   ]
  }
 ],
 "metadata": {
  "anaconda-cloud": {},
  "kernelspec": {
   "display_name": "Python [conda root]",
   "language": "python",
   "name": "conda-root-py"
  },
  "language_info": {
   "codemirror_mode": {
    "name": "ipython",
    "version": 3
   },
   "file_extension": ".py",
   "mimetype": "text/x-python",
   "name": "python",
   "nbconvert_exporter": "python",
   "pygments_lexer": "ipython3",
   "version": "3.5.2"
  }
 },
 "nbformat": 4,
 "nbformat_minor": 1
}

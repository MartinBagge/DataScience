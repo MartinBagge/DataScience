{
 "cells": [
  {
   "cell_type": "code",
   "execution_count": null,
   "metadata": {
    "collapsed": false
   },
   "outputs": [],
   "source": [
    "%matplotlib inline\n",
    "import sklearn.cluster as cluster\n",
    "import matplotlib.pyplot as plt\n",
    "import numpy as np\n",
    "import re\n",
    "import pandas as pd\n",
    "import math\n",
    "from sklearn.neighbors import KNeighborsClassifier as KNNCLF\n",
    "from sklearn.neighbors import KNeighborsRegressor as KNNREG\n",
    "from sklearn.preprocessing import Normalizer as normalizer\n",
    "from sklearn.cross_validation import cross_val_score as cross_val\n",
    "from sklearn.decomposition import PCA\n",
    "from sklearn.metrics import silhouette_score\n",
    "from sklearn.cluster import KMeans\n",
    "from sklearn.metrics import confusion_matrix\n",
    "#from sklearn.neural_network import MLPClassifier\n",
    "from scipy import stats\n",
    "from sklearn.feature_selection import RFE"
   ]
  },
  {
   "cell_type": "code",
   "execution_count": null,
   "metadata": {
    "collapsed": false
   },
   "outputs": [],
   "source": [
    "Crimes = pd.read_csv('crime.csv')\n",
    "Crimes = Crimes[np.isfinite(Crimes['Police_Districts'])]\n",
    "Crimes = Crimes[np.isfinite(Crimes['UCR_General'])]\n",
    "CrimesData = Crimes.as_matrix()\n",
    "datainit = CrimesData[:,[10,2,5,8,12,13]]"
   ]
  },
  {
   "cell_type": "code",
   "execution_count": null,
   "metadata": {
    "collapsed": false
   },
   "outputs": [],
   "source": [
    "data = datainit"
   ]
  },
  {
   "cell_type": "code",
   "execution_count": null,
   "metadata": {
    "collapsed": false
   },
   "outputs": [],
   "source": [
    "newData = []\n",
    "for item in data:\n",
    "    date = ''.join( [c for c in item[1] if c not in ' -:' ] )\n",
    "    year = date[:4]\n",
    "    month = date[4:6]\n",
    "    day = date[6:8]\n",
    "    hour = item[2]\n",
    "    minute = date[10:12]\n",
    "    item[2] = int(item[2])\n",
    "    #lon = float(\"{0:.4f}\".format(item[4]))\n",
    "    #lat = float(\"{0:.4f}\".format(item[5]))\n",
    "    lon = item[4]\n",
    "    lat = item[5]\n",
    "    newData.append([item[0],int(year),int(month),int(day),int(hour),int(minute),lon,lat,item[3]])\n",
    "data = np.array(newData)"
   ]
  },
  {
   "cell_type": "code",
   "execution_count": null,
   "metadata": {
    "collapsed": false
   },
   "outputs": [],
   "source": [
    "norm = normalizer()\n",
    "dLength = np.shape(data)[0]\n",
    "\n",
    "trainSize = int(dLength*0.80)\n",
    "\n",
    "X_train = norm.fit_transform(data[:trainSize,[2,3,4,5,6,7]])\n",
    "y_train = data[:trainSize,8]\n",
    "X_test = norm.fit_transform(data[trainSize:,[2,3,4,5,6,7]])\n",
    "y_test = data[trainSize:,8]\n",
    "len(y_train)"
   ]
  }
 ],
 "metadata": {
  "anaconda-cloud": {},
  "kernelspec": {
   "display_name": "Python [conda root]",
   "language": "python",
   "name": "conda-root-py"
  },
  "language_info": {
   "codemirror_mode": {
    "name": "ipython",
    "version": 3
   },
   "file_extension": ".py",
   "mimetype": "text/x-python",
   "name": "python",
   "nbconvert_exporter": "python",
   "pygments_lexer": "ipython3",
   "version": "3.5.2"
  }
 },
 "nbformat": 4,
 "nbformat_minor": 1
}

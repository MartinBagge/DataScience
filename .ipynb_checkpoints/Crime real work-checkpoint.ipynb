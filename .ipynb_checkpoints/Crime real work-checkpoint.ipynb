{
 "cells": [
  {
   "cell_type": "markdown",
   "metadata": {},
   "source": [
    "# Init"
   ]
  },
  {
   "cell_type": "code",
   "execution_count": null,
   "metadata": {
    "collapsed": false
   },
   "outputs": [],
   "source": [
    "#Measure time \n",
    "#import time\n",
    "#start_time = time.time()\n",
    "#main()\n",
    "#print(\"--- %s seconds ---\" % (time.time() - start_time))"
   ]
  },
  {
   "cell_type": "code",
   "execution_count": null,
   "metadata": {
    "collapsed": false
   },
   "outputs": [],
   "source": [
    "%matplotlib inline\n",
    "import sklearn.cluster as cluster\n",
    "import matplotlib.pyplot as plt\n",
    "import numpy as np\n",
    "import re\n",
    "import pandas as pd\n",
    "import math"
   ]
  },
  {
   "cell_type": "code",
   "execution_count": null,
   "metadata": {
    "collapsed": false
   },
   "outputs": [],
   "source": [
    "Crimes = pd.read_csv('crime.csv')\n",
    "CrimesData = Crimes.as_matrix()"
   ]
  },
  {
   "cell_type": "code",
   "execution_count": null,
   "metadata": {
    "collapsed": false
   },
   "outputs": [],
   "source": [
    "Date = CrimesData[:,[3,5,8,10,12,13]]"
   ]
  },
  {
   "cell_type": "code",
   "execution_count": null,
   "metadata": {
    "collapsed": false
   },
   "outputs": [],
   "source": [
    "def count(listOfItems, listToCount):\n",
    "    countDict = {el:0 for el in listOfItems}\n",
    "    for i in listToCount:\n",
    "        for j in listOfItems:\n",
    "            if i == j:\n",
    "                countDict[j]+=1\n",
    "    return countDict"
   ]
  },
  {
   "cell_type": "code",
   "execution_count": null,
   "metadata": {
    "collapsed": false
   },
   "outputs": [],
   "source": [
    "UCR_Codes = list(range(100,2700,100))"
   ]
  },
  {
   "cell_type": "markdown",
   "metadata": {},
   "source": [
    "# Month Sort"
   ]
  },
  {
   "cell_type": "code",
   "execution_count": null,
   "metadata": {
    "collapsed": false
   },
   "outputs": [],
   "source": [
    "Pattern = []\n",
    "Pattern.append(re.compile(\"20[0-1][0-9]-01\"))\n",
    "Pattern.append(re.compile(\"20[0-1][0-9]-02\"))\n",
    "Pattern.append(re.compile(\"20[0-1][0-9]-03\"))\n",
    "Pattern.append(re.compile(\"20[0-1][0-9]-04\"))\n",
    "Pattern.append(re.compile(\"20[0-1][0-9]-05\"))\n",
    "Pattern.append(re.compile(\"20[0-1][0-9]-06\"))\n",
    "Pattern.append(re.compile(\"20[0-1][0-9]-07\"))\n",
    "Pattern.append(re.compile(\"20[0-1][0-9]-08\"))\n",
    "Pattern.append(re.compile(\"20[0-1][0-9]-09\"))\n",
    "Pattern.append(re.compile(\"20[0-1][0-9]-10\"))\n",
    "Pattern.append(re.compile(\"20[0-1][0-9]-11\"))\n",
    "Pattern.append(re.compile(\"20[0-1][0-9]-12\"))\n",
    "MonthSort = [[],[],[],[],[],[],[],[],[],[],[],[]]\n",
    "\n",
    "j = 0;\n",
    "for i in Date[:,0].flat:\n",
    "    for k in range(0,12):\n",
    "        if Pattern[k].match(i):\n",
    "            MonthSort[k].append(Date[j])\n",
    "    j = j+1"
   ]
  },
  {
   "cell_type": "markdown",
   "metadata": {},
   "source": [
    "# Day Sort"
   ]
  },
  {
   "cell_type": "code",
   "execution_count": null,
   "metadata": {
    "collapsed": false
   },
   "outputs": [],
   "source": [
    "Pattern = []\n",
    "Pattern.append(re.compile(\"20[0-1][0-9]-[0-9]+-01\"))\n",
    "Pattern.append(re.compile(\"20[0-1][0-9]-[0-9]+-02\"))\n",
    "Pattern.append(re.compile(\"20[0-1][0-9]-[0-9]+-03\"))\n",
    "Pattern.append(re.compile(\"20[0-1][0-9]-[0-9]+-04\"))\n",
    "Pattern.append(re.compile(\"20[0-1][0-9]-[0-9]+-05\"))\n",
    "Pattern.append(re.compile(\"20[0-1][0-9]-[0-9]+-06\"))\n",
    "Pattern.append(re.compile(\"20[0-1][0-9]-[0-9]+-07\"))\n",
    "Pattern.append(re.compile(\"20[0-1][0-9]-[0-9]+-08\"))\n",
    "Pattern.append(re.compile(\"20[0-1][0-9]-[0-9]+-09\"))\n",
    "Pattern.append(re.compile(\"20[0-1][0-9]-[0-9]+-10\"))\n",
    "Pattern.append(re.compile(\"20[0-1][0-9]-[0-9]+-11\"))\n",
    "Pattern.append(re.compile(\"20[0-1][0-9]-[0-9]+-12\"))\n",
    "Pattern.append(re.compile(\"20[0-1][0-9]-[0-9]+-13\"))\n",
    "Pattern.append(re.compile(\"20[0-1][0-9]-[0-9]+-14\"))\n",
    "Pattern.append(re.compile(\"20[0-1][0-9]-[0-9]+-15\"))\n",
    "Pattern.append(re.compile(\"20[0-1][0-9]-[0-9]+-16\"))\n",
    "Pattern.append(re.compile(\"20[0-1][0-9]-[0-9]+-17\"))\n",
    "Pattern.append(re.compile(\"20[0-1][0-9]-[0-9]+-18\"))\n",
    "Pattern.append(re.compile(\"20[0-1][0-9]-[0-9]+-19\"))\n",
    "Pattern.append(re.compile(\"20[0-1][0-9]-[0-9]+-20\"))\n",
    "Pattern.append(re.compile(\"20[0-1][0-9]-[0-9]+-21\"))\n",
    "Pattern.append(re.compile(\"20[0-1][0-9]-[0-9]+-22\"))\n",
    "Pattern.append(re.compile(\"20[0-1][0-9]-[0-9]+-23\"))\n",
    "Pattern.append(re.compile(\"20[0-1][0-9]-[0-9]+-24\"))\n",
    "Pattern.append(re.compile(\"20[0-1][0-9]-[0-9]+-25\"))\n",
    "Pattern.append(re.compile(\"20[0-1][0-9]-[0-9]+-26\"))\n",
    "Pattern.append(re.compile(\"20[0-1][0-9]-[0-9]+-27\"))\n",
    "Pattern.append(re.compile(\"20[0-1][0-9]-[0-9]+-28\"))\n",
    "Pattern.append(re.compile(\"20[0-1][0-9]-[0-9]+-29\"))\n",
    "Pattern.append(re.compile(\"20[0-1][0-9]-[0-9]+-30\"))\n",
    "Pattern.append(re.compile(\"20[0-1][0-9]-[0-9]+-31\"))\n",
    "\n",
    "DaySort = [[],[],[],[],[],[],[],[],[],[],[],[],[],[],[],[],[],[],[],[],[],[],[],[],[],[],[],[],[],[],[]]\n",
    "\n",
    "j = 0;\n",
    "for i in Date[:,0].flat:\n",
    "    for k in range(0,31):\n",
    "        if Pattern[k].match(i):\n",
    "            DaySort[k].append(Date[j])\n",
    "    j = j+1"
   ]
  },
  {
   "cell_type": "markdown",
   "metadata": {},
   "source": [
    "# Hour Sort"
   ]
  },
  {
   "cell_type": "code",
   "execution_count": null,
   "metadata": {
    "collapsed": false
   },
   "outputs": [],
   "source": [
    "HourSort = [i for j in range(1,25) for i in Date if i[1] == j]\n"
   ]
  },
  {
   "cell_type": "markdown",
   "metadata": {},
   "source": [
    "# KNN Regressor"
   ]
  },
  {
   "cell_type": "code",
   "execution_count": null,
   "metadata": {
    "collapsed": false
   },
   "outputs": [],
   "source": [
    "from sklearn import neighbors"
   ]
  },
  {
   "cell_type": "code",
   "execution_count": null,
   "metadata": {
    "collapsed": false
   },
   "outputs": [],
   "source": [
    "nanSort = []\n",
    "for i in Date[:,1:]:\n",
    "    nan = False\n",
    "    for j in i:\n",
    "        if not nan:\n",
    "            nan = math.isnan(j)\n",
    "        if not nan:\n",
    "            nan = math.isinf(j)\n",
    "    if not nan:\n",
    "        nanSort.append(i)\n",
    "nanSort = np.array(nanSort)"
   ]
  },
  {
   "cell_type": "code",
   "execution_count": null,
   "metadata": {
    "collapsed": false
   },
   "outputs": [],
   "source": []
  },
  {
   "cell_type": "code",
   "execution_count": null,
   "metadata": {
    "collapsed": false
   },
   "outputs": [],
   "source": [
    "n_neighbors = 5\n",
    "\n",
    "y = nanSort[:,1]\n",
    "X = nanSort[:,[2,3,4]]"
   ]
  },
  {
   "cell_type": "code",
   "execution_count": null,
   "metadata": {
    "collapsed": false
   },
   "outputs": [],
   "source": [
    "knn = neighbors.KNeighborsRegressor(n_neighbors, weights='distance')\n",
    "y_ = knn.fit(X, y)"
   ]
  },
  {
   "cell_type": "code",
   "execution_count": null,
   "metadata": {
    "collapsed": false
   },
   "outputs": [],
   "source": [
    "y_predict = y_.predict(X)"
   ]
  },
  {
   "cell_type": "code",
   "execution_count": null,
   "metadata": {
    "collapsed": false,
    "scrolled": false
   },
   "outputs": [],
   "source": [
    "plt.subplot(111)\n",
    "plt.scatter(X[:100,0], y[:100], c='k', label='data')\n",
    "plt.plot(X[:100,0], y_predict[:100], c='g', label='prediction')\n",
    "plt.axis('tight')\n",
    "plt.legend()\n",
    "\n",
    "\n",
    "plt.show()"
   ]
  },
  {
   "cell_type": "markdown",
   "metadata": {
    "collapsed": false
   },
   "source": [
    "# Silhouette analysis"
   ]
  },
  {
   "cell_type": "code",
   "execution_count": null,
   "metadata": {
    "collapsed": false
   },
   "outputs": [],
   "source": [
    "from sklearn.metrics import silhouette_score\n",
    "from sklearn.cluster import KMeans\n",
    "\n",
    "range_n_clusters = [13, 14, 15, 16, 17]\n",
    "silhouette_avg = []\n",
    "\n",
    "for n_clusters in range_n_clusters:\n",
    "\n",
    "    clusterer = KMeans(n_clusters=n_clusters)\n",
    "    cluster_labels = clusterer.fit_predict(nanSort[:50000,:])\n",
    "\n",
    "    silhouette_avg.append(silhouette_score(nanSort[:50000,:], cluster_labels))\n",
    "\n",
    "plt.plot(range_n_clusters,silhouette_avg)\n",
    "plt.show()"
   ]
  },
  {
   "cell_type": "markdown",
   "metadata": {
    "collapsed": false
   },
   "source": [
    "# K-Means"
   ]
  },
  {
   "cell_type": "code",
   "execution_count": null,
   "metadata": {
    "collapsed": false
   },
   "outputs": [],
   "source": [
    "clusterer = KMeans(n_clusters=14)\n",
    "cluster_labels = clusterer.fit_predict(nanSort[:50000,:])\n",
    "plt.plot()"
   ]
  },
  {
   "cell_type": "code",
   "execution_count": null,
   "metadata": {
    "collapsed": false
   },
   "outputs": [],
   "source": [
    "nanSort[0]"
   ]
  },
  {
   "cell_type": "code",
   "execution_count": null,
   "metadata": {
    "collapsed": false
   },
   "outputs": [],
   "source": []
  }
 ],
 "metadata": {
  "anaconda-cloud": {},
  "kernelspec": {
   "display_name": "Python [Root]",
   "language": "python",
   "name": "Python [Root]"
  },
  "language_info": {
   "codemirror_mode": {
    "name": "ipython",
    "version": 3
   },
   "file_extension": ".py",
   "mimetype": "text/x-python",
   "name": "python",
   "nbconvert_exporter": "python",
   "pygments_lexer": "ipython3",
   "version": "3.5.2"
  }
 },
 "nbformat": 4,
 "nbformat_minor": 0
}

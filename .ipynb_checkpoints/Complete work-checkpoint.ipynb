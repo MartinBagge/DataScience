{
 "cells": [
  {
   "cell_type": "code",
   "execution_count": null,
   "metadata": {
    "collapsed": false
   },
   "outputs": [],
   "source": [
    "# %lsmagic\n",
    "# %env\n",
    "# %time\n",
    "# %%timeit"
   ]
  },
  {
   "cell_type": "markdown",
   "metadata": {},
   "source": [
    "### Imports & settings"
   ]
  },
  {
   "cell_type": "code",
   "execution_count": null,
   "metadata": {
    "ExecuteTime": {
     "end_time": "2016-10-26T11:47:49.268823",
     "start_time": "2016-10-26T11:47:49.090027"
    },
    "collapsed": false
   },
   "outputs": [],
   "source": [
    "%matplotlib inline\n",
    "import sklearn.cluster as cluster\n",
    "import matplotlib.pyplot as plt\n",
    "import numpy as np\n",
    "import re\n",
    "import pandas as pd\n",
    "import math\n",
    "from sklearn.neighbors import KNeighborsClassifier as KNNCLF\n",
    "from sklearn.neighbors import KNeighborsRegressor as KNNREG\n",
    "from sklearn.preprocessing import Normalizer as normalizer\n",
    "from sklearn.model_selection import cross_val_score as cross_val\n",
    "from sklearn.model_selection import train_test_split as tt_split\n",
    "from sklearn.decomposition import PCA\n",
    "from sklearn.metrics import silhouette_score\n",
    "from sklearn.cluster import KMeans\n",
    "from sklearn.metrics import confusion_matrix\n",
    "from sklearn.neural_network import MLPClassifier\n",
    "from scipy import stats\n",
    "from sklearn.feature_selection import RFE"
   ]
  },
  {
   "cell_type": "markdown",
   "metadata": {},
   "source": [
    "### Data import and NaN removal"
   ]
  },
  {
   "cell_type": "code",
   "execution_count": null,
   "metadata": {
    "ExecuteTime": {
     "end_time": "2016-10-26T11:47:58.521590",
     "start_time": "2016-10-26T11:47:50.655342"
    },
    "collapsed": false
   },
   "outputs": [],
   "source": [
    "Crimes = pd.read_csv('DataScience/crime.csv')\n",
    "Crimes = Crimes[np.isfinite(Crimes['Police_Districts'])]\n",
    "Crimes = Crimes[np.isfinite(Crimes['UCR_General'])]\n",
    "CrimesData = Crimes.as_matrix()\n",
    "datainit = CrimesData[:,[10,2,5,8,12,13]]"
   ]
  },
  {
   "cell_type": "code",
   "execution_count": null,
   "metadata": {
    "collapsed": false
   },
   "outputs": [],
   "source": [
    "Crimes"
   ]
  },
  {
   "cell_type": "markdown",
   "metadata": {},
   "source": [
    "### Filter for certain district"
   ]
  },
  {
   "cell_type": "code",
   "execution_count": null,
   "metadata": {
    "ExecuteTime": {
     "end_time": "2016-10-26T11:48:01.556518",
     "start_time": "2016-10-26T11:48:00.576364"
    },
    "collapsed": false
   },
   "outputs": [],
   "source": [
    "# Having : District, Date & Crime type\n",
    "District = 1;\n",
    "FilterData = [x for x in CrimesData[:,[10,2,8,12,13]] if x[0] == District]\n"
   ]
  },
  {
   "cell_type": "markdown",
   "metadata": {},
   "source": [
    "### Sort by date"
   ]
  },
  {
   "cell_type": "code",
   "execution_count": null,
   "metadata": {
    "ExecuteTime": {
     "end_time": "2016-10-26T11:48:47.074407",
     "start_time": "2016-10-26T11:48:08.218384"
    },
    "collapsed": false
   },
   "outputs": [],
   "source": [
    "from datetime import datetime\n",
    "data = sorted(datainit, key = lambda row: datetime.strptime(row[1], \"%Y-%m-%d %H:%M:%S\"))"
   ]
  },
  {
   "cell_type": "code",
   "execution_count": null,
   "metadata": {
    "collapsed": false
   },
   "outputs": [],
   "source": [
    "data = datainit"
   ]
  },
  {
   "cell_type": "markdown",
   "metadata": {},
   "source": [
    "### Make the date an int"
   ]
  },
  {
   "cell_type": "code",
   "execution_count": null,
   "metadata": {
    "ExecuteTime": {
     "end_time": "2016-10-26T11:48:58.965781",
     "start_time": "2016-10-26T11:48:47.076540"
    },
    "collapsed": false
   },
   "outputs": [],
   "source": [
    "newData = []\n",
    "for item in data:\n",
    "    date = ''.join( [c for c in item[1] if c not in ' -:' ] )\n",
    "    year = date[:4]\n",
    "    month = date[4:6]\n",
    "    day = date[6:8]\n",
    "    hour = item[2]\n",
    "    minute = date[10:12]\n",
    "    item[2] = int(item[2])\n",
    "    #lon = float(\"{0:.4f}\".format(item[4]))\n",
    "    #lat = float(\"{0:.4f}\".format(item[5]))\n",
    "    lon = item[4]\n",
    "    lat = item[5]\n",
    "    newData.append([item[0],int(year),int(month),int(day),int(hour),int(minute),lon,lat,item[3]])\n",
    "data = np.array(newData)"
   ]
  },
  {
   "cell_type": "code",
   "execution_count": null,
   "metadata": {
    "collapsed": false
   },
   "outputs": [],
   "source": [
    "np.shape(data)"
   ]
  },
  {
   "cell_type": "markdown",
   "metadata": {},
   "source": [
    "### Split - Not by random"
   ]
  },
  {
   "cell_type": "code",
   "execution_count": null,
   "metadata": {
    "ExecuteTime": {
     "end_time": "2016-10-26T11:49:02.481814",
     "start_time": "2016-10-26T11:49:02.277371"
    },
    "collapsed": false
   },
   "outputs": [],
   "source": [
    "norm = normalizer()\n",
    "\n",
    "#X_train, X_test, y_train, y_test = tt_split(data[:,[0,2,3,4,5,6,7]], data[:,8], test_size=0.4, random_state=1)\n",
    "#X_train_norm = norm.fit_transform(X_train)\n",
    "#X_test = X_test.flatten()\n",
    "#y_train_norm = norm.fit_transform(y_train)\n",
    "#y_test = y_test.flatten()\n",
    "\n",
    "dLength = np.shape(data)[0]\n",
    "\n",
    "trainSize = int(dLength*0.80)\n",
    "\n",
    "X_train = norm.fit_transform(data[:trainSize,[2,3,4,5,6,7]])\n",
    "y_train = data[:trainSize,8]\n",
    "X_test = norm.fit_transform(data[trainSize:,[2,3,4,5,6,7]])\n",
    "y_test = data[trainSize:,8]\n",
    "len(y_train)"
   ]
  },
  {
   "cell_type": "code",
   "execution_count": null,
   "metadata": {
    "collapsed": false
   },
   "outputs": [],
   "source": [
    "np.shape(X_train)"
   ]
  },
  {
   "cell_type": "code",
   "execution_count": null,
   "metadata": {
    "collapsed": false
   },
   "outputs": [],
   "source": [
    "estimator = MLPClassifier(alpha=1e-5, activation='logistic', hidden_layer_sizes=(5,3), learning_rate_init=0.01, early_stopping=True)\n",
    "selector = RFE(estimator).fit(X_train, y_train)\n",
    "selector.ranking_"
   ]
  },
  {
   "cell_type": "code",
   "execution_count": null,
   "metadata": {
    "collapsed": false
   },
   "outputs": [],
   "source": [
    "np.shape(X_train)"
   ]
  },
  {
   "cell_type": "markdown",
   "metadata": {},
   "source": [
    "### PCA"
   ]
  },
  {
   "cell_type": "code",
   "execution_count": null,
   "metadata": {
    "ExecuteTime": {
     "end_time": "2016-10-25T18:40:14.401136",
     "start_time": "2016-10-25T18:40:14.257047"
    },
    "collapsed": false
   },
   "outputs": [],
   "source": [
    "variance = []\n",
    "pca = PCA(n_components=6).fit(X_train)\n",
    "transformed_data = pca.transform(X_train)\n",
    "variance = pca.explained_variance_ratio_\n",
    "\n",
    "\n",
    "cumsum_variance = np.cumsum(variance)\n",
    "axis = range(len(variance))\n",
    "axis = [x+1 for x in axis]\n",
    "df = pd.DataFrame(index = axis)\n",
    "df['% of Variance'] = variance\n",
    "df['Cumsum % of Variance'] = cumsum_variance\n",
    "#np.round(df[::20], decimals=3)\n",
    "\n",
    "df"
   ]
  },
  {
   "cell_type": "code",
   "execution_count": null,
   "metadata": {
    "ExecuteTime": {
     "end_time": "2016-10-26T09:17:05.801388",
     "start_time": "2016-10-26T09:17:05.597743"
    },
    "collapsed": false
   },
   "outputs": [],
   "source": [
    "fig = plt.figure()\n",
    "plt.title(\"Describes variance per component\")\n",
    "plt.xlabel('number of components')\n",
    "plt.ylabel('Described Variance')\n",
    "plt.plot(axis,cumsum_variance)\n",
    "fig.savefig('PCA_plot.png')\n",
    "plt.show()"
   ]
  },
  {
   "cell_type": "markdown",
   "metadata": {},
   "source": [
    "## KNN Classification"
   ]
  },
  {
   "cell_type": "markdown",
   "metadata": {},
   "source": [
    "### Find best k"
   ]
  },
  {
   "cell_type": "code",
   "execution_count": null,
   "metadata": {
    "ExecuteTime": {
     "end_time": "2016-10-25T18:44:29.120246",
     "start_time": "2016-10-25T18:44:29.116367"
    },
    "collapsed": false
   },
   "outputs": [],
   "source": [
    "len(y_test)"
   ]
  },
  {
   "cell_type": "code",
   "execution_count": null,
   "metadata": {
    "ExecuteTime": {
     "end_time": "2016-10-26T09:11:55.246987",
     "start_time": "2016-10-26T09:09:24.158008"
    },
    "collapsed": false,
    "scrolled": false
   },
   "outputs": [],
   "source": [
    "#rule of thumb: squreroot(37000)=192\n",
    "#242\n",
    "#52!!\n",
    "scores = []\n",
    "k = range(40,60)\n",
    "y_real = [x for x in y_test]\n",
    "for x in k:\n",
    "    knn = KNNCLF(n_neighbors=x, n_jobs=-1, weights='distance')\n",
    "    y = [x for x in y_train]\n",
    "    y_ = knn.fit(X_train,y)\n",
    "    scores.append(y_.score(X_test, y_real))"
   ]
  },
  {
   "cell_type": "code",
   "execution_count": null,
   "metadata": {
    "ExecuteTime": {
     "end_time": "2016-10-26T09:18:53.899456",
     "start_time": "2016-10-26T09:18:53.641940"
    },
    "collapsed": false
   },
   "outputs": [],
   "source": [
    "fig = plt.figure()\n",
    "plt.title(\"Test for optimal K-value\")\n",
    "plt.xlabel('K-values')\n",
    "plt.ylabel('Precision(%)')\n",
    "plt.plot(k,scores)\n",
    "fig.savefig('bestK.png')\n",
    "plt.show()"
   ]
  },
  {
   "cell_type": "markdown",
   "metadata": {},
   "source": [
    "### Init KNN with best k"
   ]
  },
  {
   "cell_type": "code",
   "execution_count": null,
   "metadata": {
    "ExecuteTime": {
     "end_time": "2016-10-26T11:49:16.405600",
     "start_time": "2016-10-26T11:49:16.235150"
    },
    "collapsed": false
   },
   "outputs": [],
   "source": [
    "X_predict = X_test\n",
    "y_real = [x for x in y_test]\n",
    "X = X_train\n",
    "y = [x for x in y_train]\n",
    "knn = KNNCLF(n_neighbors=52, n_jobs=-1, weights='distance')\n",
    "y_ = knn.fit(X,y)"
   ]
  },
  {
   "cell_type": "markdown",
   "metadata": {},
   "source": [
    "### Prediction"
   ]
  },
  {
   "cell_type": "code",
   "execution_count": null,
   "metadata": {
    "ExecuteTime": {
     "end_time": "2016-10-26T11:50:00.135103",
     "start_time": "2016-10-26T11:49:17.529983"
    },
    "collapsed": false
   },
   "outputs": [],
   "source": [
    "y_predict = y_.predict(X_predict)\n",
    "y_predict"
   ]
  },
  {
   "cell_type": "markdown",
   "metadata": {},
   "source": [
    "### Probability of the predicted value to be true"
   ]
  },
  {
   "cell_type": "code",
   "execution_count": null,
   "metadata": {
    "ExecuteTime": {
     "end_time": "2016-10-26T11:50:06.106983",
     "start_time": "2016-10-26T11:50:00.136337"
    },
    "collapsed": false
   },
   "outputs": [],
   "source": [
    "y_proba_predict = y_.predict_proba(X_predict)\n",
    "y_proba = [max(x) for x in y_proba_predict]\n",
    "np.mean(y_proba)"
   ]
  },
  {
   "cell_type": "markdown",
   "metadata": {},
   "source": [
    "### Score of how good the model is"
   ]
  },
  {
   "cell_type": "code",
   "execution_count": null,
   "metadata": {
    "ExecuteTime": {
     "end_time": "2016-10-26T11:50:10.962147",
     "start_time": "2016-10-26T11:50:06.108514"
    },
    "collapsed": false
   },
   "outputs": [],
   "source": [
    "y_.score(X_predict, y_real)"
   ]
  },
  {
   "cell_type": "markdown",
   "metadata": {},
   "source": [
    "### Confusion Metric"
   ]
  },
  {
   "cell_type": "code",
   "execution_count": null,
   "metadata": {
    "ExecuteTime": {
     "end_time": "2016-10-25T16:28:37.570487",
     "start_time": "2016-10-25T16:28:37.548326"
    },
    "collapsed": false
   },
   "outputs": [],
   "source": [
    "confusion_matrix(y_real, y_predict)"
   ]
  },
  {
   "cell_type": "markdown",
   "metadata": {},
   "source": [
    "### Heatmap"
   ]
  },
  {
   "cell_type": "code",
   "execution_count": null,
   "metadata": {
    "ExecuteTime": {
     "end_time": "2016-10-26T11:50:58.159939",
     "start_time": "2016-10-26T11:50:57.748936"
    },
    "collapsed": false
   },
   "outputs": [],
   "source": [
    "heatmap, xedges, yedges = np.histogram2d(y_real, y_predict, bins=50)\n",
    "extent = [xedges[0], xedges[-1], yedges[0], yedges[-1]]\n",
    "\n",
    "fig = plt.figure()\n",
    "plt.clf()\n",
    "plt.title(\"Real vs Predicted values\")\n",
    "plt.xlabel('Real value(UCR Code)')\n",
    "plt.ylabel('Predicted value(UCR Code)')\n",
    "plt.imshow(heatmap, extent=extent)\n",
    "fig.savefig('HeatMap.png')\n",
    "plt.show()"
   ]
  },
  {
   "cell_type": "markdown",
   "metadata": {},
   "source": [
    "### Scatter plot showing the real values and the predicted values"
   ]
  },
  {
   "cell_type": "code",
   "execution_count": null,
   "metadata": {
    "ExecuteTime": {
     "end_time": "2016-10-25T17:39:28.460865",
     "start_time": "2016-10-25T17:39:27.968808"
    },
    "collapsed": false
   },
   "outputs": [],
   "source": [
    "plt.subplot(111)\n",
    "plt.title(\"Real & Predicted values\")\n",
    "plt.xlabel('?')\n",
    "plt.ylabel('UCR Code')\n",
    "plt.scatter(X_predict, y_real, marker='.', c='r', s=200, label='real')\n",
    "plt.scatter(X_predict, y_predict, marker=',',c='g', s=100, label='prediction')\n",
    "plt.axis('tight')\n",
    "plt.legend()\n",
    "\n",
    "plt.show()"
   ]
  },
  {
   "cell_type": "markdown",
   "metadata": {},
   "source": [
    "### 10-fold Cross Validation KNN"
   ]
  },
  {
   "cell_type": "code",
   "execution_count": null,
   "metadata": {
    "ExecuteTime": {
     "end_time": "2016-10-25T16:28:41.424829",
     "start_time": "2016-10-25T16:28:41.418685"
    },
    "collapsed": false
   },
   "outputs": [],
   "source": []
  },
  {
   "cell_type": "code",
   "execution_count": null,
   "metadata": {
    "ExecuteTime": {
     "end_time": "2016-10-26T11:51:57.852442",
     "start_time": "2016-10-26T11:51:57.537904"
    },
    "collapsed": false
   },
   "outputs": [],
   "source": [
    "knnscores = cross_val(knn, X_train, [x for x in y_train], cv=10)\n",
    "knnciRaw = stats.norm.interval(0.95, loc=knnscores.mean(), scale=knnscores.std())\n",
    "knnci = knnciRaw[1]-knnciRaw[0]\n",
    "knnscoreMean = knnscores.mean()"
   ]
  },
  {
   "cell_type": "markdown",
   "metadata": {},
   "source": [
    "Knn with k = 52 and use of all parameter except year yields 26.4% +- 4.1%"
   ]
  },
  {
   "cell_type": "code",
   "execution_count": null,
   "metadata": {
    "collapsed": false
   },
   "outputs": [],
   "source": [
    "print('%0.003f +- %0.003f' % (knnscoreMean,knnci))"
   ]
  },
  {
   "cell_type": "code",
   "execution_count": null,
   "metadata": {
    "ExecuteTime": {
     "end_time": "2016-10-25T19:51:34.767702",
     "start_time": "2016-10-25T19:51:34.763391"
    },
    "collapsed": false
   },
   "outputs": [],
   "source": [
    "knnscores.mean()"
   ]
  },
  {
   "cell_type": "markdown",
   "metadata": {
    "collapsed": false
   },
   "source": [
    "### Silhuette analysis"
   ]
  },
  {
   "cell_type": "code",
   "execution_count": null,
   "metadata": {
    "ExecuteTime": {
     "start_time": "2016-10-25T12:46:20.977Z"
    },
    "collapsed": false
   },
   "outputs": [],
   "source": [
    "range_n_clusters = [13, 14, 15, 16, 17]\n",
    "silhouette_avg = []\n",
    "\n",
    "for n_clusters in range_n_clusters:\n",
    "\n",
    "    clusterer = KMeans(n_clusters=n_clusters, n_jobs=-1)\n",
    "    cluster_labels = clusterer.fit_predict(data[:,[1,2]])\n",
    "\n",
    "    silhouette_avg.append(silhouette_score(data[:,[1,2]], cluster_labels))\n",
    "\n",
    "plt.plot(range_n_clusters,silhouette_avg)\n",
    "plt.show()"
   ]
  },
  {
   "cell_type": "markdown",
   "metadata": {
    "collapsed": false
   },
   "source": [
    "### ANN"
   ]
  },
  {
   "cell_type": "code",
   "execution_count": null,
   "metadata": {
    "collapsed": false
   },
   "outputs": [],
   "source": [
    "np.shape(X_train)"
   ]
  },
  {
   "cell_type": "markdown",
   "metadata": {},
   "source": [
    "28,37% (5,3)"
   ]
  },
  {
   "cell_type": "code",
   "execution_count": null,
   "metadata": {
    "ExecuteTime": {
     "end_time": "2016-10-25T19:29:20.212048",
     "start_time": "2016-10-25T19:29:19.212966"
    },
    "collapsed": false
   },
   "outputs": [],
   "source": [
    "scores = []\n",
    "for n in range(1,50):\n",
    "    clf = MLPClassifier(alpha=1e-5, activation='logistic', hidden_layer_sizes=(n), learning_rate_init=0.01, early_stopping=True)\n",
    "    clf.fit(X_train, y_train)\n",
    "    #y_predict = clf.predict(X_test_norm)\n",
    "    scores.append(clf.score(X_test, y_test))\n",
    "scores"
   ]
  },
  {
   "cell_type": "code",
   "execution_count": null,
   "metadata": {
    "collapsed": false
   },
   "outputs": [],
   "source": [
    "clf.n_layers_"
   ]
  },
  {
   "cell_type": "code",
   "execution_count": null,
   "metadata": {
    "collapsed": false
   },
   "outputs": [],
   "source": [
    "clf.hidden_layer_sizes"
   ]
  },
  {
   "cell_type": "markdown",
   "metadata": {},
   "source": [
    "### 10-fold cross validation ANN"
   ]
  },
  {
   "cell_type": "code",
   "execution_count": null,
   "metadata": {
    "ExecuteTime": {
     "end_time": "2016-10-25T19:54:27.782768",
     "start_time": "2016-10-25T19:54:14.951878"
    },
    "collapsed": false
   },
   "outputs": [],
   "source": [
    "clf = MLPClassifier(alpha=1e-5, activation='logistic')\n",
    "annscores = cross_val(clf, X_train, [x for x in y_train], cv=10)\n",
    "annciRaw = stats.norm.interval(0.95, loc=annscores.mean(), scale=annscores.std())\n",
    "annci = annciRaw[1]-annciRaw[0]\n",
    "annscoreMean = annscores.mean()"
   ]
  },
  {
   "cell_type": "code",
   "execution_count": null,
   "metadata": {
    "collapsed": false
   },
   "outputs": [],
   "source": [
    "annciRaw = ciRaw\n",
    "annci = ci\n",
    "annscoreMean = scoreMean"
   ]
  },
  {
   "cell_type": "code",
   "execution_count": null,
   "metadata": {
    "ExecuteTime": {
     "end_time": "2016-10-25T19:55:16.529751",
     "start_time": "2016-10-25T19:55:16.525024"
    },
    "collapsed": false
   },
   "outputs": [],
   "source": [
    "print('%0.003f +- %0.003f' % (annscoreMean,annci))"
   ]
  },
  {
   "cell_type": "code",
   "execution_count": null,
   "metadata": {
    "collapsed": false
   },
   "outputs": [],
   "source": []
  },
  {
   "cell_type": "markdown",
   "metadata": {},
   "source": [
    "Ann with use of all parameter except year yields 27.7% +- 3.6%"
   ]
  },
  {
   "cell_type": "markdown",
   "metadata": {
    "ExecuteTime": {
     "end_time": "2016-10-25T12:23:51.306772",
     "start_time": "2016-10-25T12:23:51.302710"
    },
    "collapsed": false
   },
   "source": [
    "### Bar plot with error bars"
   ]
  },
  {
   "cell_type": "code",
   "execution_count": null,
   "metadata": {
    "ExecuteTime": {
     "end_time": "2016-10-25T19:56:12.574487",
     "start_time": "2016-10-25T19:56:12.354102"
    },
    "collapsed": false
   },
   "outputs": [],
   "source": [
    "fig, ax = plt.subplots()\n",
    "knnBar = ax.bar(1, knnscores.mean(), width, color='r', yerr=knnci)\n",
    "annBar = ax.bar(2, annscores.mean(), width, color='y', yerr=annci)\n",
    "\n",
    "ax.set_ylabel('True predictions (%)')\n",
    "ax.set_title('10-fold cross validation for knn and ann')\n",
    "ax.set_xlabel('knn(left) and ann(right)')\n",
    "\n",
    "ax.legend((knnBar[0], annBar[0]), ('knn', 'ann'))\n",
    "\n",
    "fig.savefig('knn and ann bar plot with errors (k = 52) year not in features vector')\n",
    "\n",
    "plt.show()"
   ]
  },
  {
   "cell_type": "code",
   "execution_count": null,
   "metadata": {
    "collapsed": false
   },
   "outputs": [],
   "source": []
  },
  {
   "cell_type": "markdown",
   "metadata": {},
   "source": []
  }
 ],
 "metadata": {
  "anaconda-cloud": {},
  "kernelspec": {
   "display_name": "Python [conda root]",
   "language": "python",
   "name": "conda-root-py"
  },
  "language_info": {
   "codemirror_mode": {
    "name": "ipython",
    "version": 3
   },
   "file_extension": ".py",
   "mimetype": "text/x-python",
   "name": "python",
   "nbconvert_exporter": "python",
   "pygments_lexer": "ipython3",
   "version": "3.5.2"
  }
 },
 "nbformat": 4,
 "nbformat_minor": 1
}

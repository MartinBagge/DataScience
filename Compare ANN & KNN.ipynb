{
 "cells": [
  {
   "cell_type": "code",
   "execution_count": null,
   "metadata": {
    "collapsed": true
   },
   "outputs": [],
   "source": [
    "%run init.ipynb"
   ]
  },
  {
   "cell_type": "code",
   "execution_count": null,
   "metadata": {
    "collapsed": true
   },
   "outputs": [],
   "source": [
    "clf = MLPClassifier(alpha=1e-5, activation='logistic', hidden_layer_sizes=(), learning_rate=0.001)\n",
    "annscores = cross_val(clf, X_train, [x for x in y_train], cv=10)\n",
    "annciRaw = stats.norm.interval(0.95, loc=annscores.mean(), scale=annscores.std())\n",
    "annci = annciRaw[1]-annciRaw[0]\n",
    "annscoreMean = annscores.mean()"
   ]
  },
  {
   "cell_type": "code",
   "execution_count": null,
   "metadata": {
    "collapsed": true
   },
   "outputs": [],
   "source": [
    "knnscores = cross_val(knn, X_train, [x for x in y_train], cv=10)\n",
    "knnciRaw = stats.norm.interval(0.95, loc=knnscores.mean(), scale=knnscores.std())\n",
    "knnci = knnciRaw[1]-knnciRaw[0]\n",
    "knnscoreMean = knnscores.mean()"
   ]
  },
  {
   "cell_type": "code",
   "execution_count": null,
   "metadata": {
    "collapsed": true
   },
   "outputs": [],
   "source": [
    "fig, ax = plt.subplots()\n",
    "knnBar = ax.bar(1, knnscores.mean(), width, color='r', yerr=knnci)\n",
    "annBar = ax.bar(2, annscores.mean(), width, color='y', yerr=annci)\n",
    "\n",
    "ax.set_ylabel('True predictions (%)')\n",
    "ax.set_title('10-fold cross validation for knn and ann')\n",
    "ax.set_xlabel('knn(left) and ann(right)')\n",
    "\n",
    "ax.legend((knnBar[0], annBar[0]), ('knn', 'ann'))\n",
    "\n",
    "fig.savefig('knn and ann bar plot with errors (k = 52) year not in features vector')\n",
    "\n",
    "plt.show()"
   ]
  }
 ],
 "metadata": {
  "anaconda-cloud": {},
  "kernelspec": {
   "display_name": "Python [conda root]",
   "language": "python",
   "name": "conda-root-py"
  },
  "language_info": {
   "codemirror_mode": {
    "name": "ipython",
    "version": 3
   },
   "file_extension": ".py",
   "mimetype": "text/x-python",
   "name": "python",
   "nbconvert_exporter": "python",
   "pygments_lexer": "ipython3",
   "version": "3.5.2"
  }
 },
 "nbformat": 4,
 "nbformat_minor": 1
}

{
 "cells": [
  {
   "cell_type": "code",
   "execution_count": null,
   "metadata": {
    "collapsed": false
   },
   "outputs": [],
   "source": [
    "scores = []\n",
    "for n in range(1,50):\n",
    "    clf = MLPClassifier(alpha=1e-5, activation='logistic', hidden_layer_sizes=(n), learning_rate_init=0.01, early_stopping=True)\n",
    "    clf.fit(X_train, y_train)\n",
    "    #y_predict = clf.predict(X_test_norm)\n",
    "    scores.append(clf.score(X_test, y_test))\n",
    "scores"
   ]
  },
  {
   "cell_type": "code",
   "execution_count": null,
   "metadata": {
    "collapsed": false
   },
   "outputs": [],
   "source": [
    "clf = MLPClassifier(alpha=1e-5, activation='logistic')\n",
    "annscores = cross_val(clf, X_train, [x for x in y_train], cv=10)\n",
    "annciRaw = stats.norm.interval(0.95, loc=annscores.mean(), scale=annscores.std())\n",
    "annci = annciRaw[1]-annciRaw[0]\n",
    "annscoreMean = annscores.mean()"
   ]
  },
  {
   "cell_type": "code",
   "execution_count": null,
   "metadata": {
    "collapsed": false
   },
   "outputs": [],
   "source": [
    "print('%0.003f +- %0.003f' % (annscoreMean,annci))"
   ]
  }
 ],
 "metadata": {
  "kernelspec": {
   "display_name": "Python [conda root]",
   "language": "python",
   "name": "conda-root-py"
  },
  "language_info": {
   "codemirror_mode": {
    "name": "ipython",
    "version": 3
   },
   "file_extension": ".py",
   "mimetype": "text/x-python",
   "name": "python",
   "nbconvert_exporter": "python",
   "pygments_lexer": "ipython3",
   "version": "3.5.2"
  }
 },
 "nbformat": 4,
 "nbformat_minor": 1
}

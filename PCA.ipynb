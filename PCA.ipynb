{
 "cells": [
  {
   "cell_type": "code",
   "execution_count": null,
   "metadata": {
    "collapsed": false
   },
   "outputs": [],
   "source": [
    "variance = []\n",
    "pca = PCA(n_components=6).fit(X_train)\n",
    "transformed_data = pca.transform(X_train)\n",
    "variance = pca.explained_variance_ratio_\n",
    "\n",
    "\n",
    "cumsum_variance = np.cumsum(variance)\n",
    "axis = range(len(variance))\n",
    "axis = [x+1 for x in axis]\n",
    "df = pd.DataFrame(index = axis)\n",
    "df['% of Variance'] = variance\n",
    "df['Cumsum % of Variance'] = cumsum_variance"
   ]
  }
 ],
 "metadata": {
  "kernelspec": {
   "display_name": "Python [conda root]",
   "language": "python",
   "name": "conda-root-py"
  },
  "language_info": {
   "codemirror_mode": {
    "name": "ipython",
    "version": 3
   },
   "file_extension": ".py",
   "mimetype": "text/x-python",
   "name": "python",
   "nbconvert_exporter": "python",
   "pygments_lexer": "ipython3",
   "version": "3.5.2"
  }
 },
 "nbformat": 4,
 "nbformat_minor": 1
}

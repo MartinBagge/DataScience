{
 "cells": [
  {
   "cell_type": "code",
   "execution_count": null,
   "metadata": {
    "collapsed": true
   },
   "outputs": [],
   "source": [
    "# %lsmagic\n",
    "# %env\n",
    "# %time\n",
    "# %%timeit"
   ]
  },
  {
   "cell_type": "markdown",
   "metadata": {},
   "source": [
    "### Imports & settings"
   ]
  },
  {
   "cell_type": "code",
   "execution_count": 30,
   "metadata": {
    "ExecuteTime": {
     "end_time": "2016-10-26T11:47:49.268823",
     "start_time": "2016-10-26T11:47:49.090027"
    },
    "collapsed": true
   },
   "outputs": [],
   "source": [
    "%matplotlib inline\n",
    "%env\n",
    "import sklearn.cluster as cluster\n",
    "import matplotlib.pyplot as plt\n",
    "import numpy as np\n",
    "import re\n",
    "import pandas as pd\n",
    "import math\n",
    "from sklearn.neighbors import KNeighborsClassifier as KNNCLF\n",
    "from sklearn.neighbors import KNeighborsRegressor as KNNREG\n",
    "from sklearn.preprocessing import Normalizer as normalizer\n",
    "from sklearn.model_selection import cross_val_score as cross_val\n",
    "from sklearn.model_selection import train_test_split as tt_split\n",
    "from sklearn.decomposition import PCA\n",
    "from sklearn.metrics import silhouette_score\n",
    "from sklearn.cluster import KMeans\n",
    "from sklearn.metrics import confusion_matrix\n",
    "from sklearn.neural_network import MLPClassifier\n",
    "from scipy import stats\n",
    "from sklearn.feature_selection import RFE"
   ]
  },
  {
   "cell_type": "markdown",
   "metadata": {},
   "source": [
    "### Data import and NaN removal"
   ]
  },
  {
   "cell_type": "code",
   "execution_count": 38,
   "metadata": {
    "ExecuteTime": {
     "end_time": "2016-10-26T11:47:58.521590",
     "start_time": "2016-10-26T11:47:50.655342"
    },
    "collapsed": false
   },
   "outputs": [],
   "source": [
    "%env\n",
    "Crimes = pd.read_csv('DataScience/crime.csv')\n",
    "Crimes = Crimes[np.isfinite(Crimes['Police_Districts'])]\n",
    "Crimes = Crimes[np.isfinite(Crimes['UCR_General'])]\n",
    "CrimesData = Crimes.as_matrix()\n",
    "datainit = CrimesData[:,[10,2,5,8,12,13]]"
   ]
  },
  {
   "cell_type": "code",
   "execution_count": 5,
   "metadata": {
    "collapsed": false
   },
   "outputs": [
    {
     "data": {
      "text/html": [
       "<div>\n",
       "<table border=\"1\" class=\"dataframe\">\n",
       "  <thead>\n",
       "    <tr style=\"text-align: right;\">\n",
       "      <th></th>\n",
       "      <th>Dc_Dist</th>\n",
       "      <th>Psa</th>\n",
       "      <th>Dispatch_Date_Time</th>\n",
       "      <th>Dispatch_Date</th>\n",
       "      <th>Dispatch_Time</th>\n",
       "      <th>Hour</th>\n",
       "      <th>Dc_Key</th>\n",
       "      <th>Location_Block</th>\n",
       "      <th>UCR_General</th>\n",
       "      <th>Text_General_Code</th>\n",
       "      <th>Police_Districts</th>\n",
       "      <th>Month</th>\n",
       "      <th>Lon</th>\n",
       "      <th>Lat</th>\n",
       "    </tr>\n",
       "  </thead>\n",
       "  <tbody>\n",
       "    <tr>\n",
       "      <th>3</th>\n",
       "      <td>35</td>\n",
       "      <td>D</td>\n",
       "      <td>2009-07-19 01:09:00</td>\n",
       "      <td>2009-07-19</td>\n",
       "      <td>01:09:00</td>\n",
       "      <td>1</td>\n",
       "      <td>200935061008</td>\n",
       "      <td>5500 BLOCK N 5TH ST</td>\n",
       "      <td>1500.0</td>\n",
       "      <td>Weapon Violations</td>\n",
       "      <td>20.0</td>\n",
       "      <td>2009-07</td>\n",
       "      <td>-75.130477</td>\n",
       "      <td>40.036389</td>\n",
       "    </tr>\n",
       "    <tr>\n",
       "      <th>4</th>\n",
       "      <td>9</td>\n",
       "      <td>R</td>\n",
       "      <td>2009-06-25 12:14:00</td>\n",
       "      <td>2009-06-25</td>\n",
       "      <td>00:14:00</td>\n",
       "      <td>0</td>\n",
       "      <td>200909030511</td>\n",
       "      <td>1800 BLOCK WYLIE ST</td>\n",
       "      <td>2600.0</td>\n",
       "      <td>All Other Offenses</td>\n",
       "      <td>8.0</td>\n",
       "      <td>2009-06</td>\n",
       "      <td>-75.166350</td>\n",
       "      <td>39.969532</td>\n",
       "    </tr>\n",
       "    <tr>\n",
       "      <th>5</th>\n",
       "      <td>17</td>\n",
       "      <td>1</td>\n",
       "      <td>2015-04-25 12:50:00</td>\n",
       "      <td>2015-04-25</td>\n",
       "      <td>12:50:00</td>\n",
       "      <td>12</td>\n",
       "      <td>201517017705</td>\n",
       "      <td>800 BLOCK S BROAD ST</td>\n",
       "      <td>600.0</td>\n",
       "      <td>Thefts</td>\n",
       "      <td>13.0</td>\n",
       "      <td>2015-04</td>\n",
       "      <td>-75.166412</td>\n",
       "      <td>39.940070</td>\n",
       "    </tr>\n",
       "    <tr>\n",
       "      <th>6</th>\n",
       "      <td>23</td>\n",
       "      <td>K</td>\n",
       "      <td>2009-02-10 02:33:00</td>\n",
       "      <td>2009-02-10</td>\n",
       "      <td>14:33:00</td>\n",
       "      <td>14</td>\n",
       "      <td>200923006310</td>\n",
       "      <td>2200 BLOCK RIDGE AVE</td>\n",
       "      <td>800.0</td>\n",
       "      <td>Other Assaults</td>\n",
       "      <td>16.0</td>\n",
       "      <td>2009-02</td>\n",
       "      <td>-75.171149</td>\n",
       "      <td>39.979586</td>\n",
       "    </tr>\n",
       "    <tr>\n",
       "      <th>12</th>\n",
       "      <td>22</td>\n",
       "      <td>3</td>\n",
       "      <td>2015-10-06 06:18:00</td>\n",
       "      <td>2015-10-06</td>\n",
       "      <td>18:18:00</td>\n",
       "      <td>18</td>\n",
       "      <td>201522089374</td>\n",
       "      <td>1500 BLOCK N 15TH ST</td>\n",
       "      <td>600.0</td>\n",
       "      <td>Thefts</td>\n",
       "      <td>16.0</td>\n",
       "      <td>2015-10</td>\n",
       "      <td>-75.160229</td>\n",
       "      <td>39.976134</td>\n",
       "    </tr>\n",
       "    <tr>\n",
       "      <th>13</th>\n",
       "      <td>22</td>\n",
       "      <td>3</td>\n",
       "      <td>2015-10-09 12:49:00</td>\n",
       "      <td>2015-10-09</td>\n",
       "      <td>00:49:00</td>\n",
       "      <td>0</td>\n",
       "      <td>201522090172</td>\n",
       "      <td>1500 BLOCK N 17TH ST</td>\n",
       "      <td>600.0</td>\n",
       "      <td>Thefts</td>\n",
       "      <td>16.0</td>\n",
       "      <td>2015-10</td>\n",
       "      <td>-75.163073</td>\n",
       "      <td>39.977872</td>\n",
       "    </tr>\n",
       "    <tr>\n",
       "      <th>15</th>\n",
       "      <td>2</td>\n",
       "      <td>1</td>\n",
       "      <td>2015-11-30 08:39:00</td>\n",
       "      <td>2015-11-30</td>\n",
       "      <td>08:39:00</td>\n",
       "      <td>8</td>\n",
       "      <td>201502076521</td>\n",
       "      <td>6500 BLOCK CASTOR AV</td>\n",
       "      <td>600.0</td>\n",
       "      <td>Thefts</td>\n",
       "      <td>2.0</td>\n",
       "      <td>2015-11</td>\n",
       "      <td>-75.075602</td>\n",
       "      <td>40.041270</td>\n",
       "    </tr>\n",
       "    <tr>\n",
       "      <th>18</th>\n",
       "      <td>24</td>\n",
       "      <td>2</td>\n",
       "      <td>2015-04-11 05:38:00</td>\n",
       "      <td>2015-04-11</td>\n",
       "      <td>17:38:00</td>\n",
       "      <td>17</td>\n",
       "      <td>201524030846</td>\n",
       "      <td>2800 BLOCK RUTH ST</td>\n",
       "      <td>2400.0</td>\n",
       "      <td>Disorderly Conduct</td>\n",
       "      <td>17.0</td>\n",
       "      <td>2015-04</td>\n",
       "      <td>-75.122057</td>\n",
       "      <td>39.990907</td>\n",
       "    </tr>\n",
       "    <tr>\n",
       "      <th>21</th>\n",
       "      <td>22</td>\n",
       "      <td>4</td>\n",
       "      <td>2015-12-10 12:29:00</td>\n",
       "      <td>2015-12-10</td>\n",
       "      <td>12:29:00</td>\n",
       "      <td>12</td>\n",
       "      <td>201522110572</td>\n",
       "      <td>2600 BLOCK W THOMPSON ST</td>\n",
       "      <td>600.0</td>\n",
       "      <td>Thefts</td>\n",
       "      <td>16.0</td>\n",
       "      <td>2015-12</td>\n",
       "      <td>-75.178874</td>\n",
       "      <td>39.975724</td>\n",
       "    </tr>\n",
       "    <tr>\n",
       "      <th>22</th>\n",
       "      <td>15</td>\n",
       "      <td>I</td>\n",
       "      <td>2009-01-11 12:30:00</td>\n",
       "      <td>2009-01-11</td>\n",
       "      <td>12:30:00</td>\n",
       "      <td>12</td>\n",
       "      <td>200915003568</td>\n",
       "      <td>5200 BLOCK HARBISON AVE</td>\n",
       "      <td>600.0</td>\n",
       "      <td>Thefts</td>\n",
       "      <td>11.0</td>\n",
       "      <td>2009-01</td>\n",
       "      <td>-75.069032</td>\n",
       "      <td>40.012430</td>\n",
       "    </tr>\n",
       "    <tr>\n",
       "      <th>24</th>\n",
       "      <td>19</td>\n",
       "      <td>A</td>\n",
       "      <td>2009-05-21 09:46:00</td>\n",
       "      <td>2009-05-21</td>\n",
       "      <td>09:46:00</td>\n",
       "      <td>9</td>\n",
       "      <td>200919045006</td>\n",
       "      <td>7500 BLOCK WOODBINE AVE</td>\n",
       "      <td>900.0</td>\n",
       "      <td>Arson</td>\n",
       "      <td>15.0</td>\n",
       "      <td>2009-05</td>\n",
       "      <td>-75.266605</td>\n",
       "      <td>39.975197</td>\n",
       "    </tr>\n",
       "    <tr>\n",
       "      <th>25</th>\n",
       "      <td>18</td>\n",
       "      <td>2</td>\n",
       "      <td>2015-05-05 03:14:00</td>\n",
       "      <td>2015-05-05</td>\n",
       "      <td>03:14:00</td>\n",
       "      <td>3</td>\n",
       "      <td>201518027600</td>\n",
       "      <td>5600 BLOCK CHESTNUT ST</td>\n",
       "      <td>600.0</td>\n",
       "      <td>Thefts</td>\n",
       "      <td>14.0</td>\n",
       "      <td>2015-05</td>\n",
       "      <td>-75.235121</td>\n",
       "      <td>39.959754</td>\n",
       "    </tr>\n",
       "    <tr>\n",
       "      <th>26</th>\n",
       "      <td>2</td>\n",
       "      <td>1</td>\n",
       "      <td>2015-12-08 02:42:00</td>\n",
       "      <td>2015-12-08</td>\n",
       "      <td>14:42:00</td>\n",
       "      <td>14</td>\n",
       "      <td>201502078234</td>\n",
       "      <td>4600 BLOCK E ROOSEVELT BLVD</td>\n",
       "      <td>600.0</td>\n",
       "      <td>Thefts</td>\n",
       "      <td>2.0</td>\n",
       "      <td>2015-12</td>\n",
       "      <td>-75.099584</td>\n",
       "      <td>40.028490</td>\n",
       "    </tr>\n",
       "    <tr>\n",
       "      <th>27</th>\n",
       "      <td>18</td>\n",
       "      <td>3</td>\n",
       "      <td>2015-10-13 07:48:00</td>\n",
       "      <td>2015-10-13</td>\n",
       "      <td>19:48:00</td>\n",
       "      <td>19</td>\n",
       "      <td>201518068761</td>\n",
       "      <td>4800 BLOCK MARKET ST</td>\n",
       "      <td>600.0</td>\n",
       "      <td>Thefts</td>\n",
       "      <td>14.0</td>\n",
       "      <td>2015-10</td>\n",
       "      <td>-75.217184</td>\n",
       "      <td>39.959005</td>\n",
       "    </tr>\n",
       "    <tr>\n",
       "      <th>28</th>\n",
       "      <td>24</td>\n",
       "      <td>2</td>\n",
       "      <td>2015-08-23 01:58:00</td>\n",
       "      <td>2015-08-23</td>\n",
       "      <td>01:58:00</td>\n",
       "      <td>1</td>\n",
       "      <td>201524080438</td>\n",
       "      <td>3000 BLOCK B ST</td>\n",
       "      <td>800.0</td>\n",
       "      <td>Other Assaults</td>\n",
       "      <td>17.0</td>\n",
       "      <td>2015-08</td>\n",
       "      <td>-75.125869</td>\n",
       "      <td>39.995626</td>\n",
       "    </tr>\n",
       "    <tr>\n",
       "      <th>29</th>\n",
       "      <td>14</td>\n",
       "      <td>H</td>\n",
       "      <td>2009-04-15 02:09:00</td>\n",
       "      <td>2009-04-15</td>\n",
       "      <td>14:09:00</td>\n",
       "      <td>14</td>\n",
       "      <td>200914026604</td>\n",
       "      <td>0 BLOCK E HIGH ST</td>\n",
       "      <td>900.0</td>\n",
       "      <td>Arson</td>\n",
       "      <td>10.0</td>\n",
       "      <td>2009-04</td>\n",
       "      <td>-75.176900</td>\n",
       "      <td>40.040153</td>\n",
       "    </tr>\n",
       "    <tr>\n",
       "      <th>30</th>\n",
       "      <td>26</td>\n",
       "      <td>2</td>\n",
       "      <td>2015-03-10 11:05:00</td>\n",
       "      <td>2015-03-10</td>\n",
       "      <td>23:05:00</td>\n",
       "      <td>23</td>\n",
       "      <td>201526012015</td>\n",
       "      <td>1900 BLOCK N 09TH ST</td>\n",
       "      <td>1100.0</td>\n",
       "      <td>Fraud</td>\n",
       "      <td>19.0</td>\n",
       "      <td>2015-03</td>\n",
       "      <td>-75.148657</td>\n",
       "      <td>39.981381</td>\n",
       "    </tr>\n",
       "    <tr>\n",
       "      <th>31</th>\n",
       "      <td>19</td>\n",
       "      <td>1</td>\n",
       "      <td>2015-02-24 04:05:00</td>\n",
       "      <td>2015-02-24</td>\n",
       "      <td>16:05:00</td>\n",
       "      <td>16</td>\n",
       "      <td>201519017331</td>\n",
       "      <td>100 BLOCK N 63RD ST</td>\n",
       "      <td>600.0</td>\n",
       "      <td>Thefts</td>\n",
       "      <td>15.0</td>\n",
       "      <td>2015-02</td>\n",
       "      <td>-75.246174</td>\n",
       "      <td>39.965767</td>\n",
       "    </tr>\n",
       "    <tr>\n",
       "      <th>32</th>\n",
       "      <td>26</td>\n",
       "      <td>2</td>\n",
       "      <td>2015-06-03 07:02:00</td>\n",
       "      <td>2015-06-03</td>\n",
       "      <td>07:02:00</td>\n",
       "      <td>7</td>\n",
       "      <td>201526027511</td>\n",
       "      <td>300 BLOCK MASTER ST</td>\n",
       "      <td>600.0</td>\n",
       "      <td>Theft from Vehicle</td>\n",
       "      <td>19.0</td>\n",
       "      <td>2015-06</td>\n",
       "      <td>-75.142238</td>\n",
       "      <td>39.972396</td>\n",
       "    </tr>\n",
       "    <tr>\n",
       "      <th>34</th>\n",
       "      <td>19</td>\n",
       "      <td>2</td>\n",
       "      <td>2015-02-26 03:20:00</td>\n",
       "      <td>2015-02-26</td>\n",
       "      <td>15:20:00</td>\n",
       "      <td>15</td>\n",
       "      <td>201519017938</td>\n",
       "      <td>5600 BLOCK VINE ST</td>\n",
       "      <td>600.0</td>\n",
       "      <td>Thefts</td>\n",
       "      <td>15.0</td>\n",
       "      <td>2015-02</td>\n",
       "      <td>-75.231825</td>\n",
       "      <td>39.965636</td>\n",
       "    </tr>\n",
       "    <tr>\n",
       "      <th>35</th>\n",
       "      <td>15</td>\n",
       "      <td>1</td>\n",
       "      <td>2015-11-13 04:51:00</td>\n",
       "      <td>2015-11-13</td>\n",
       "      <td>16:51:00</td>\n",
       "      <td>16</td>\n",
       "      <td>201515111714</td>\n",
       "      <td>1600 BLOCK DYRE ST</td>\n",
       "      <td>300.0</td>\n",
       "      <td>Robbery No Firearm</td>\n",
       "      <td>11.0</td>\n",
       "      <td>2015-11</td>\n",
       "      <td>-75.077126</td>\n",
       "      <td>40.020219</td>\n",
       "    </tr>\n",
       "    <tr>\n",
       "      <th>36</th>\n",
       "      <td>19</td>\n",
       "      <td>2</td>\n",
       "      <td>2015-10-29 06:53:00</td>\n",
       "      <td>2015-10-29</td>\n",
       "      <td>18:53:00</td>\n",
       "      <td>18</td>\n",
       "      <td>201519110299</td>\n",
       "      <td>500 BLOCK N HOBART ST</td>\n",
       "      <td>800.0</td>\n",
       "      <td>Other Assaults</td>\n",
       "      <td>15.0</td>\n",
       "      <td>2015-10</td>\n",
       "      <td>-75.236743</td>\n",
       "      <td>39.968878</td>\n",
       "    </tr>\n",
       "    <tr>\n",
       "      <th>38</th>\n",
       "      <td>17</td>\n",
       "      <td>1</td>\n",
       "      <td>2015-11-10 09:59:00</td>\n",
       "      <td>2015-11-10</td>\n",
       "      <td>09:59:00</td>\n",
       "      <td>9</td>\n",
       "      <td>201517056398</td>\n",
       "      <td>800 BLOCK S 17TH ST</td>\n",
       "      <td>600.0</td>\n",
       "      <td>Theft from Vehicle</td>\n",
       "      <td>13.0</td>\n",
       "      <td>2015-11</td>\n",
       "      <td>-75.171071</td>\n",
       "      <td>39.940641</td>\n",
       "    </tr>\n",
       "    <tr>\n",
       "      <th>42</th>\n",
       "      <td>24</td>\n",
       "      <td>I</td>\n",
       "      <td>2009-02-15 12:36:00</td>\n",
       "      <td>2009-02-15</td>\n",
       "      <td>12:36:00</td>\n",
       "      <td>12</td>\n",
       "      <td>200924012783</td>\n",
       "      <td>3700 BLOCK ARAMINGO AVE</td>\n",
       "      <td>600.0</td>\n",
       "      <td>Thefts</td>\n",
       "      <td>17.0</td>\n",
       "      <td>2009-02</td>\n",
       "      <td>-75.094481</td>\n",
       "      <td>39.994678</td>\n",
       "    </tr>\n",
       "    <tr>\n",
       "      <th>43</th>\n",
       "      <td>18</td>\n",
       "      <td>3</td>\n",
       "      <td>2015-03-07 08:47:00</td>\n",
       "      <td>2015-03-07</td>\n",
       "      <td>08:47:00</td>\n",
       "      <td>8</td>\n",
       "      <td>201518013984</td>\n",
       "      <td>3600 BLOCK SANSOMST</td>\n",
       "      <td>600.0</td>\n",
       "      <td>Theft from Vehicle</td>\n",
       "      <td>14.0</td>\n",
       "      <td>2015-03</td>\n",
       "      <td>-75.194694</td>\n",
       "      <td>39.953878</td>\n",
       "    </tr>\n",
       "    <tr>\n",
       "      <th>44</th>\n",
       "      <td>19</td>\n",
       "      <td>3</td>\n",
       "      <td>2015-07-06 10:16:00</td>\n",
       "      <td>2015-07-06</td>\n",
       "      <td>10:16:00</td>\n",
       "      <td>10</td>\n",
       "      <td>201519066435</td>\n",
       "      <td>4000 BLOCK MONUMENT RD</td>\n",
       "      <td>600.0</td>\n",
       "      <td>Thefts</td>\n",
       "      <td>15.0</td>\n",
       "      <td>2015-07</td>\n",
       "      <td>-75.213489</td>\n",
       "      <td>40.006611</td>\n",
       "    </tr>\n",
       "    <tr>\n",
       "      <th>45</th>\n",
       "      <td>18</td>\n",
       "      <td>2</td>\n",
       "      <td>2015-04-24 10:23:00</td>\n",
       "      <td>2015-04-24</td>\n",
       "      <td>10:23:00</td>\n",
       "      <td>10</td>\n",
       "      <td>201518025247</td>\n",
       "      <td>0 BLOCK S 54TH ST</td>\n",
       "      <td>600.0</td>\n",
       "      <td>Theft from Vehicle</td>\n",
       "      <td>14.0</td>\n",
       "      <td>2015-04</td>\n",
       "      <td>-75.228597</td>\n",
       "      <td>39.960435</td>\n",
       "    </tr>\n",
       "    <tr>\n",
       "      <th>49</th>\n",
       "      <td>18</td>\n",
       "      <td>2</td>\n",
       "      <td>2015-08-07 03:55:00</td>\n",
       "      <td>2015-08-07</td>\n",
       "      <td>03:55:00</td>\n",
       "      <td>3</td>\n",
       "      <td>201518051143</td>\n",
       "      <td>5000 BLOCK CEDAR AV</td>\n",
       "      <td>600.0</td>\n",
       "      <td>Theft from Vehicle</td>\n",
       "      <td>14.0</td>\n",
       "      <td>2015-08</td>\n",
       "      <td>-75.223059</td>\n",
       "      <td>39.949959</td>\n",
       "    </tr>\n",
       "    <tr>\n",
       "      <th>52</th>\n",
       "      <td>22</td>\n",
       "      <td>2</td>\n",
       "      <td>2015-11-05 11:44:00</td>\n",
       "      <td>2015-11-05</td>\n",
       "      <td>11:44:00</td>\n",
       "      <td>11</td>\n",
       "      <td>201522099656</td>\n",
       "      <td>N 22ND ST / DIAMOND ST</td>\n",
       "      <td>300.0</td>\n",
       "      <td>Robbery Firearm</td>\n",
       "      <td>16.0</td>\n",
       "      <td>2015-11</td>\n",
       "      <td>-75.169577</td>\n",
       "      <td>39.986415</td>\n",
       "    </tr>\n",
       "    <tr>\n",
       "      <th>53</th>\n",
       "      <td>2</td>\n",
       "      <td>3</td>\n",
       "      <td>2015-04-06 04:38:00</td>\n",
       "      <td>2015-04-06</td>\n",
       "      <td>16:38:00</td>\n",
       "      <td>16</td>\n",
       "      <td>201502021075</td>\n",
       "      <td>7000 BLOCK CASTOR AV</td>\n",
       "      <td>600.0</td>\n",
       "      <td>Thefts</td>\n",
       "      <td>2.0</td>\n",
       "      <td>2015-04</td>\n",
       "      <td>-75.070330</td>\n",
       "      <td>40.046875</td>\n",
       "    </tr>\n",
       "    <tr>\n",
       "      <th>...</th>\n",
       "      <td>...</td>\n",
       "      <td>...</td>\n",
       "      <td>...</td>\n",
       "      <td>...</td>\n",
       "      <td>...</td>\n",
       "      <td>...</td>\n",
       "      <td>...</td>\n",
       "      <td>...</td>\n",
       "      <td>...</td>\n",
       "      <td>...</td>\n",
       "      <td>...</td>\n",
       "      <td>...</td>\n",
       "      <td>...</td>\n",
       "      <td>...</td>\n",
       "    </tr>\n",
       "    <tr>\n",
       "      <th>2152288</th>\n",
       "      <td>24</td>\n",
       "      <td>2</td>\n",
       "      <td>2016-07-06 04:57:00</td>\n",
       "      <td>2016-07-06</td>\n",
       "      <td>16:57:00</td>\n",
       "      <td>16</td>\n",
       "      <td>201624066154</td>\n",
       "      <td>300 BLOCK E GURNEY ST</td>\n",
       "      <td>2600.0</td>\n",
       "      <td>All Other Offenses</td>\n",
       "      <td>17.0</td>\n",
       "      <td>2016-07</td>\n",
       "      <td>-75.126851</td>\n",
       "      <td>39.991360</td>\n",
       "    </tr>\n",
       "    <tr>\n",
       "      <th>2152289</th>\n",
       "      <td>6</td>\n",
       "      <td>3</td>\n",
       "      <td>2016-07-06 09:50:00</td>\n",
       "      <td>2016-07-06</td>\n",
       "      <td>09:50:00</td>\n",
       "      <td>9</td>\n",
       "      <td>201606029239</td>\n",
       "      <td>600 BLOCK ADDISON ST</td>\n",
       "      <td>600.0</td>\n",
       "      <td>Thefts</td>\n",
       "      <td>5.0</td>\n",
       "      <td>2016-07</td>\n",
       "      <td>-75.153573</td>\n",
       "      <td>39.943621</td>\n",
       "    </tr>\n",
       "    <tr>\n",
       "      <th>2152290</th>\n",
       "      <td>15</td>\n",
       "      <td>2</td>\n",
       "      <td>2016-07-06 11:59:00</td>\n",
       "      <td>2016-07-06</td>\n",
       "      <td>23:59:00</td>\n",
       "      <td>0</td>\n",
       "      <td>201615066030</td>\n",
       "      <td>4500 BLOCK VAN KIRK ST</td>\n",
       "      <td>700.0</td>\n",
       "      <td>Motor Vehicle Theft</td>\n",
       "      <td>11.0</td>\n",
       "      <td>2016-07</td>\n",
       "      <td>-75.063688</td>\n",
       "      <td>40.018353</td>\n",
       "    </tr>\n",
       "    <tr>\n",
       "      <th>2152291</th>\n",
       "      <td>35</td>\n",
       "      <td>2</td>\n",
       "      <td>2016-07-06 10:18:00</td>\n",
       "      <td>2016-07-06</td>\n",
       "      <td>22:18:00</td>\n",
       "      <td>22</td>\n",
       "      <td>201635059655</td>\n",
       "      <td>5100 BLOCK N WARNOCK ST</td>\n",
       "      <td>2600.0</td>\n",
       "      <td>All Other Offenses</td>\n",
       "      <td>20.0</td>\n",
       "      <td>2016-07</td>\n",
       "      <td>-75.140105</td>\n",
       "      <td>40.031147</td>\n",
       "    </tr>\n",
       "    <tr>\n",
       "      <th>2152292</th>\n",
       "      <td>14</td>\n",
       "      <td>2</td>\n",
       "      <td>2016-07-06 12:00:00</td>\n",
       "      <td>2016-07-06</td>\n",
       "      <td>12:00:00</td>\n",
       "      <td>12</td>\n",
       "      <td>201614054519</td>\n",
       "      <td>500 BLOCK E TULPEHOCKEN ST</td>\n",
       "      <td>700.0</td>\n",
       "      <td>Recovered Stolen Motor Vehicle</td>\n",
       "      <td>10.0</td>\n",
       "      <td>2016-07</td>\n",
       "      <td>-75.172355</td>\n",
       "      <td>40.049036</td>\n",
       "    </tr>\n",
       "    <tr>\n",
       "      <th>2152293</th>\n",
       "      <td>35</td>\n",
       "      <td>2</td>\n",
       "      <td>2016-07-07 05:36:00</td>\n",
       "      <td>2016-07-07</td>\n",
       "      <td>05:36:00</td>\n",
       "      <td>5</td>\n",
       "      <td>201635059717</td>\n",
       "      <td>200 BLOCK E ASHDALE ST</td>\n",
       "      <td>1400.0</td>\n",
       "      <td>Vandalism/Criminal Mischief</td>\n",
       "      <td>20.0</td>\n",
       "      <td>2016-07</td>\n",
       "      <td>-75.119839</td>\n",
       "      <td>40.028327</td>\n",
       "    </tr>\n",
       "    <tr>\n",
       "      <th>2152294</th>\n",
       "      <td>26</td>\n",
       "      <td>1</td>\n",
       "      <td>2016-07-06 11:13:00</td>\n",
       "      <td>2016-07-06</td>\n",
       "      <td>11:13:00</td>\n",
       "      <td>11</td>\n",
       "      <td>201626033951</td>\n",
       "      <td>600 BLOCK DIAMOND ST</td>\n",
       "      <td>700.0</td>\n",
       "      <td>Recovered Stolen Motor Vehicle</td>\n",
       "      <td>19.0</td>\n",
       "      <td>2016-07</td>\n",
       "      <td>-75.144205</td>\n",
       "      <td>39.983064</td>\n",
       "    </tr>\n",
       "    <tr>\n",
       "      <th>2152295</th>\n",
       "      <td>12</td>\n",
       "      <td>2</td>\n",
       "      <td>2016-07-06 11:36:00</td>\n",
       "      <td>2016-07-06</td>\n",
       "      <td>11:36:00</td>\n",
       "      <td>11</td>\n",
       "      <td>201612048167</td>\n",
       "      <td>2000 BLOCK CEMETERY AVE</td>\n",
       "      <td>700.0</td>\n",
       "      <td>Recovered Stolen Motor Vehicle</td>\n",
       "      <td>9.0</td>\n",
       "      <td>2016-07</td>\n",
       "      <td>-75.235412</td>\n",
       "      <td>39.928959</td>\n",
       "    </tr>\n",
       "    <tr>\n",
       "      <th>2152296</th>\n",
       "      <td>2</td>\n",
       "      <td>3</td>\n",
       "      <td>2016-07-06 12:43:00</td>\n",
       "      <td>2016-07-06</td>\n",
       "      <td>12:43:00</td>\n",
       "      <td>12</td>\n",
       "      <td>201602041035</td>\n",
       "      <td>800 BLOCK COTTMAN AV</td>\n",
       "      <td>700.0</td>\n",
       "      <td>Recovered Stolen Motor Vehicle</td>\n",
       "      <td>2.0</td>\n",
       "      <td>2016-07</td>\n",
       "      <td>-75.086551</td>\n",
       "      <td>40.063034</td>\n",
       "    </tr>\n",
       "    <tr>\n",
       "      <th>2152297</th>\n",
       "      <td>25</td>\n",
       "      <td>4</td>\n",
       "      <td>2016-07-06 04:15:00</td>\n",
       "      <td>2016-07-06</td>\n",
       "      <td>16:15:00</td>\n",
       "      <td>16</td>\n",
       "      <td>201625056738</td>\n",
       "      <td>3000 BLOCK N DARIEN ST</td>\n",
       "      <td>700.0</td>\n",
       "      <td>Recovered Stolen Motor Vehicle</td>\n",
       "      <td>18.0</td>\n",
       "      <td>2016-07</td>\n",
       "      <td>-75.144647</td>\n",
       "      <td>39.997414</td>\n",
       "    </tr>\n",
       "    <tr>\n",
       "      <th>2152298</th>\n",
       "      <td>25</td>\n",
       "      <td>4</td>\n",
       "      <td>2016-07-06 05:35:00</td>\n",
       "      <td>2016-07-06</td>\n",
       "      <td>17:35:00</td>\n",
       "      <td>17</td>\n",
       "      <td>201625056753</td>\n",
       "      <td>1200 BLOCK W WESTMORELAND ST</td>\n",
       "      <td>700.0</td>\n",
       "      <td>Recovered Stolen Motor Vehicle</td>\n",
       "      <td>18.0</td>\n",
       "      <td>2016-07</td>\n",
       "      <td>-75.148874</td>\n",
       "      <td>40.002664</td>\n",
       "    </tr>\n",
       "    <tr>\n",
       "      <th>2152299</th>\n",
       "      <td>14</td>\n",
       "      <td>3</td>\n",
       "      <td>2016-07-06 06:21:00</td>\n",
       "      <td>2016-07-06</td>\n",
       "      <td>18:21:00</td>\n",
       "      <td>18</td>\n",
       "      <td>201614054622</td>\n",
       "      <td>200 BLOCK W TULPEHOCKEN ST</td>\n",
       "      <td>700.0</td>\n",
       "      <td>Recovered Stolen Motor Vehicle</td>\n",
       "      <td>10.0</td>\n",
       "      <td>2016-07</td>\n",
       "      <td>-75.184247</td>\n",
       "      <td>40.038120</td>\n",
       "    </tr>\n",
       "    <tr>\n",
       "      <th>2152300</th>\n",
       "      <td>12</td>\n",
       "      <td>3</td>\n",
       "      <td>2016-07-06 06:52:00</td>\n",
       "      <td>2016-07-06</td>\n",
       "      <td>18:52:00</td>\n",
       "      <td>18</td>\n",
       "      <td>201612048276</td>\n",
       "      <td>3000 BLOCK DOWITCHER PL</td>\n",
       "      <td>700.0</td>\n",
       "      <td>Recovered Stolen Motor Vehicle</td>\n",
       "      <td>9.0</td>\n",
       "      <td>2016-07</td>\n",
       "      <td>-75.227236</td>\n",
       "      <td>39.916454</td>\n",
       "    </tr>\n",
       "    <tr>\n",
       "      <th>2152301</th>\n",
       "      <td>14</td>\n",
       "      <td>4</td>\n",
       "      <td>2016-07-06 09:56:00</td>\n",
       "      <td>2016-07-06</td>\n",
       "      <td>21:56:00</td>\n",
       "      <td>21</td>\n",
       "      <td>201614054711</td>\n",
       "      <td>E SEDGWICK ST / MANSFIELD AV</td>\n",
       "      <td>700.0</td>\n",
       "      <td>Recovered Stolen Motor Vehicle</td>\n",
       "      <td>10.0</td>\n",
       "      <td>2016-07</td>\n",
       "      <td>-75.176457</td>\n",
       "      <td>40.068267</td>\n",
       "    </tr>\n",
       "    <tr>\n",
       "      <th>2152302</th>\n",
       "      <td>9</td>\n",
       "      <td>1</td>\n",
       "      <td>2016-07-06 10:16:00</td>\n",
       "      <td>2016-07-06</td>\n",
       "      <td>22:16:00</td>\n",
       "      <td>22</td>\n",
       "      <td>201609026971</td>\n",
       "      <td>200 BLOCK S SYDENHAM ST</td>\n",
       "      <td>700.0</td>\n",
       "      <td>Recovered Stolen Motor Vehicle</td>\n",
       "      <td>8.0</td>\n",
       "      <td>2016-07</td>\n",
       "      <td>-75.166804</td>\n",
       "      <td>39.949085</td>\n",
       "    </tr>\n",
       "    <tr>\n",
       "      <th>2152303</th>\n",
       "      <td>12</td>\n",
       "      <td>4</td>\n",
       "      <td>2016-07-06 11:47:00</td>\n",
       "      <td>2016-07-06</td>\n",
       "      <td>23:47:00</td>\n",
       "      <td>23</td>\n",
       "      <td>201612048353</td>\n",
       "      <td>1500 BLOCK S 56TH ST</td>\n",
       "      <td>700.0</td>\n",
       "      <td>Recovered Stolen Motor Vehicle</td>\n",
       "      <td>9.0</td>\n",
       "      <td>2016-07</td>\n",
       "      <td>-75.227377</td>\n",
       "      <td>39.939153</td>\n",
       "    </tr>\n",
       "    <tr>\n",
       "      <th>2152304</th>\n",
       "      <td>22</td>\n",
       "      <td>3</td>\n",
       "      <td>2016-07-06 03:14:00</td>\n",
       "      <td>2016-07-06</td>\n",
       "      <td>15:14:00</td>\n",
       "      <td>15</td>\n",
       "      <td>201622056686</td>\n",
       "      <td>1700 BLOCK N 15TH ST</td>\n",
       "      <td>600.0</td>\n",
       "      <td>Thefts</td>\n",
       "      <td>16.0</td>\n",
       "      <td>2016-07</td>\n",
       "      <td>-75.159493</td>\n",
       "      <td>39.978954</td>\n",
       "    </tr>\n",
       "    <tr>\n",
       "      <th>2152305</th>\n",
       "      <td>22</td>\n",
       "      <td>2</td>\n",
       "      <td>2016-07-06 06:31:00</td>\n",
       "      <td>2016-07-06</td>\n",
       "      <td>18:31:00</td>\n",
       "      <td>18</td>\n",
       "      <td>201622056714</td>\n",
       "      <td>2600 BLOCK N STANLEY ST</td>\n",
       "      <td>600.0</td>\n",
       "      <td>Thefts</td>\n",
       "      <td>16.0</td>\n",
       "      <td>2016-07</td>\n",
       "      <td>-75.181610</td>\n",
       "      <td>39.995924</td>\n",
       "    </tr>\n",
       "    <tr>\n",
       "      <th>2152306</th>\n",
       "      <td>22</td>\n",
       "      <td>2</td>\n",
       "      <td>2016-07-06 01:10:00</td>\n",
       "      <td>2016-07-06</td>\n",
       "      <td>13:10:00</td>\n",
       "      <td>13</td>\n",
       "      <td>201622056667</td>\n",
       "      <td>1900 BLOCK N PATTON ST</td>\n",
       "      <td>1400.0</td>\n",
       "      <td>Vandalism/Criminal Mischief</td>\n",
       "      <td>16.0</td>\n",
       "      <td>2016-07</td>\n",
       "      <td>-75.185502</td>\n",
       "      <td>39.985549</td>\n",
       "    </tr>\n",
       "    <tr>\n",
       "      <th>2152307</th>\n",
       "      <td>1</td>\n",
       "      <td>1</td>\n",
       "      <td>2016-07-06 04:42:00</td>\n",
       "      <td>2016-07-06</td>\n",
       "      <td>16:42:00</td>\n",
       "      <td>16</td>\n",
       "      <td>201601029941</td>\n",
       "      <td>2301 S 24TH ST</td>\n",
       "      <td>1800.0</td>\n",
       "      <td>Narcotic / Drug Law Violations</td>\n",
       "      <td>1.0</td>\n",
       "      <td>2016-07</td>\n",
       "      <td>-75.186624</td>\n",
       "      <td>39.923593</td>\n",
       "    </tr>\n",
       "    <tr>\n",
       "      <th>2152308</th>\n",
       "      <td>1</td>\n",
       "      <td>1</td>\n",
       "      <td>2016-07-06 12:49:00</td>\n",
       "      <td>2016-07-06</td>\n",
       "      <td>12:49:00</td>\n",
       "      <td>12</td>\n",
       "      <td>201601029902</td>\n",
       "      <td>2300 BLOCK S CARLISLE ST</td>\n",
       "      <td>2600.0</td>\n",
       "      <td>All Other Offenses</td>\n",
       "      <td>1.0</td>\n",
       "      <td>2016-07</td>\n",
       "      <td>-75.171371</td>\n",
       "      <td>39.921865</td>\n",
       "    </tr>\n",
       "    <tr>\n",
       "      <th>2152309</th>\n",
       "      <td>16</td>\n",
       "      <td>1</td>\n",
       "      <td>2016-07-07 12:09:00</td>\n",
       "      <td>2016-07-07</td>\n",
       "      <td>00:09:00</td>\n",
       "      <td>0</td>\n",
       "      <td>201616029060</td>\n",
       "      <td>3800 BLOCK MELON ST</td>\n",
       "      <td>2600.0</td>\n",
       "      <td>All Other Offenses</td>\n",
       "      <td>12.0</td>\n",
       "      <td>2016-07</td>\n",
       "      <td>-75.197789</td>\n",
       "      <td>39.965101</td>\n",
       "    </tr>\n",
       "    <tr>\n",
       "      <th>2152310</th>\n",
       "      <td>25</td>\n",
       "      <td>3</td>\n",
       "      <td>2016-07-07 12:31:00</td>\n",
       "      <td>2016-07-07</td>\n",
       "      <td>00:31:00</td>\n",
       "      <td>0</td>\n",
       "      <td>201625056891</td>\n",
       "      <td>500 BLOCK E WESTMORELAND ST</td>\n",
       "      <td>2600.0</td>\n",
       "      <td>All Other Offenses</td>\n",
       "      <td>18.0</td>\n",
       "      <td>2016-07</td>\n",
       "      <td>-75.120930</td>\n",
       "      <td>39.999063</td>\n",
       "    </tr>\n",
       "    <tr>\n",
       "      <th>2152311</th>\n",
       "      <td>18</td>\n",
       "      <td>3</td>\n",
       "      <td>2016-07-06 10:21:00</td>\n",
       "      <td>2016-07-06</td>\n",
       "      <td>22:21:00</td>\n",
       "      <td>22</td>\n",
       "      <td>201618049828</td>\n",
       "      <td>3400 BLOCK SPRUCE ST</td>\n",
       "      <td>600.0</td>\n",
       "      <td>Thefts</td>\n",
       "      <td>14.0</td>\n",
       "      <td>2016-07</td>\n",
       "      <td>-75.193967</td>\n",
       "      <td>39.950587</td>\n",
       "    </tr>\n",
       "    <tr>\n",
       "      <th>2152312</th>\n",
       "      <td>19</td>\n",
       "      <td>3</td>\n",
       "      <td>2016-07-06 12:43:00</td>\n",
       "      <td>2016-07-06</td>\n",
       "      <td>12:43:00</td>\n",
       "      <td>12</td>\n",
       "      <td>201619062776</td>\n",
       "      <td>5100 BLOCK VIOLA ST</td>\n",
       "      <td>600.0</td>\n",
       "      <td>Theft from Vehicle</td>\n",
       "      <td>15.0</td>\n",
       "      <td>2016-07</td>\n",
       "      <td>-75.222205</td>\n",
       "      <td>39.980259</td>\n",
       "    </tr>\n",
       "    <tr>\n",
       "      <th>2152313</th>\n",
       "      <td>7</td>\n",
       "      <td>2</td>\n",
       "      <td>2016-07-06 10:52:00</td>\n",
       "      <td>2016-07-06</td>\n",
       "      <td>22:52:00</td>\n",
       "      <td>22</td>\n",
       "      <td>201607019377</td>\n",
       "      <td>9200 BLOCK E ROOSEVELT BLVD</td>\n",
       "      <td>1400.0</td>\n",
       "      <td>Vandalism/Criminal Mischief</td>\n",
       "      <td>6.0</td>\n",
       "      <td>2016-07</td>\n",
       "      <td>-75.032977</td>\n",
       "      <td>40.076877</td>\n",
       "    </tr>\n",
       "    <tr>\n",
       "      <th>2152314</th>\n",
       "      <td>7</td>\n",
       "      <td>3</td>\n",
       "      <td>2016-07-06 09:51:00</td>\n",
       "      <td>2016-07-06</td>\n",
       "      <td>09:51:00</td>\n",
       "      <td>9</td>\n",
       "      <td>201607019317</td>\n",
       "      <td>10700 BLOCK JEANES ST</td>\n",
       "      <td>2600.0</td>\n",
       "      <td>All Other Offenses</td>\n",
       "      <td>6.0</td>\n",
       "      <td>2016-07</td>\n",
       "      <td>-75.025818</td>\n",
       "      <td>40.112286</td>\n",
       "    </tr>\n",
       "    <tr>\n",
       "      <th>2152315</th>\n",
       "      <td>25</td>\n",
       "      <td>4</td>\n",
       "      <td>2016-07-06 10:31:00</td>\n",
       "      <td>2016-07-06</td>\n",
       "      <td>22:31:00</td>\n",
       "      <td>22</td>\n",
       "      <td>201625056860</td>\n",
       "      <td>3400 BLOCK GERMANTOWN AVE</td>\n",
       "      <td>1600.0</td>\n",
       "      <td>Prostitution and Commercialized Vice</td>\n",
       "      <td>18.0</td>\n",
       "      <td>2016-07</td>\n",
       "      <td>-75.149334</td>\n",
       "      <td>40.004298</td>\n",
       "    </tr>\n",
       "    <tr>\n",
       "      <th>2152316</th>\n",
       "      <td>19</td>\n",
       "      <td>3</td>\n",
       "      <td>2016-07-06 09:54:00</td>\n",
       "      <td>2016-07-06</td>\n",
       "      <td>09:54:00</td>\n",
       "      <td>9</td>\n",
       "      <td>201619062744</td>\n",
       "      <td>2100 BLOCK BELMONT AVE</td>\n",
       "      <td>600.0</td>\n",
       "      <td>Thefts</td>\n",
       "      <td>15.0</td>\n",
       "      <td>2016-07</td>\n",
       "      <td>-75.217952</td>\n",
       "      <td>39.994274</td>\n",
       "    </tr>\n",
       "    <tr>\n",
       "      <th>2152317</th>\n",
       "      <td>39</td>\n",
       "      <td>2</td>\n",
       "      <td>2016-07-06 04:16:00</td>\n",
       "      <td>2016-07-06</td>\n",
       "      <td>16:16:00</td>\n",
       "      <td>16</td>\n",
       "      <td>201639055508</td>\n",
       "      <td>3700 BLOCK N BROAD ST</td>\n",
       "      <td>800.0</td>\n",
       "      <td>Other Assaults</td>\n",
       "      <td>21.0</td>\n",
       "      <td>2016-07</td>\n",
       "      <td>-75.151141</td>\n",
       "      <td>40.009978</td>\n",
       "    </tr>\n",
       "  </tbody>\n",
       "</table>\n",
       "<p>2132899 rows × 14 columns</p>\n",
       "</div>"
      ],
      "text/plain": [
       "         Dc_Dist Psa   Dispatch_Date_Time Dispatch_Date Dispatch_Time  Hour  \\\n",
       "3             35   D  2009-07-19 01:09:00    2009-07-19      01:09:00     1   \n",
       "4              9   R  2009-06-25 12:14:00    2009-06-25      00:14:00     0   \n",
       "5             17   1  2015-04-25 12:50:00    2015-04-25      12:50:00    12   \n",
       "6             23   K  2009-02-10 02:33:00    2009-02-10      14:33:00    14   \n",
       "12            22   3  2015-10-06 06:18:00    2015-10-06      18:18:00    18   \n",
       "13            22   3  2015-10-09 12:49:00    2015-10-09      00:49:00     0   \n",
       "15             2   1  2015-11-30 08:39:00    2015-11-30      08:39:00     8   \n",
       "18            24   2  2015-04-11 05:38:00    2015-04-11      17:38:00    17   \n",
       "21            22   4  2015-12-10 12:29:00    2015-12-10      12:29:00    12   \n",
       "22            15   I  2009-01-11 12:30:00    2009-01-11      12:30:00    12   \n",
       "24            19   A  2009-05-21 09:46:00    2009-05-21      09:46:00     9   \n",
       "25            18   2  2015-05-05 03:14:00    2015-05-05      03:14:00     3   \n",
       "26             2   1  2015-12-08 02:42:00    2015-12-08      14:42:00    14   \n",
       "27            18   3  2015-10-13 07:48:00    2015-10-13      19:48:00    19   \n",
       "28            24   2  2015-08-23 01:58:00    2015-08-23      01:58:00     1   \n",
       "29            14   H  2009-04-15 02:09:00    2009-04-15      14:09:00    14   \n",
       "30            26   2  2015-03-10 11:05:00    2015-03-10      23:05:00    23   \n",
       "31            19   1  2015-02-24 04:05:00    2015-02-24      16:05:00    16   \n",
       "32            26   2  2015-06-03 07:02:00    2015-06-03      07:02:00     7   \n",
       "34            19   2  2015-02-26 03:20:00    2015-02-26      15:20:00    15   \n",
       "35            15   1  2015-11-13 04:51:00    2015-11-13      16:51:00    16   \n",
       "36            19   2  2015-10-29 06:53:00    2015-10-29      18:53:00    18   \n",
       "38            17   1  2015-11-10 09:59:00    2015-11-10      09:59:00     9   \n",
       "42            24   I  2009-02-15 12:36:00    2009-02-15      12:36:00    12   \n",
       "43            18   3  2015-03-07 08:47:00    2015-03-07      08:47:00     8   \n",
       "44            19   3  2015-07-06 10:16:00    2015-07-06      10:16:00    10   \n",
       "45            18   2  2015-04-24 10:23:00    2015-04-24      10:23:00    10   \n",
       "49            18   2  2015-08-07 03:55:00    2015-08-07      03:55:00     3   \n",
       "52            22   2  2015-11-05 11:44:00    2015-11-05      11:44:00    11   \n",
       "53             2   3  2015-04-06 04:38:00    2015-04-06      16:38:00    16   \n",
       "...          ...  ..                  ...           ...           ...   ...   \n",
       "2152288       24   2  2016-07-06 04:57:00    2016-07-06      16:57:00    16   \n",
       "2152289        6   3  2016-07-06 09:50:00    2016-07-06      09:50:00     9   \n",
       "2152290       15   2  2016-07-06 11:59:00    2016-07-06      23:59:00     0   \n",
       "2152291       35   2  2016-07-06 10:18:00    2016-07-06      22:18:00    22   \n",
       "2152292       14   2  2016-07-06 12:00:00    2016-07-06      12:00:00    12   \n",
       "2152293       35   2  2016-07-07 05:36:00    2016-07-07      05:36:00     5   \n",
       "2152294       26   1  2016-07-06 11:13:00    2016-07-06      11:13:00    11   \n",
       "2152295       12   2  2016-07-06 11:36:00    2016-07-06      11:36:00    11   \n",
       "2152296        2   3  2016-07-06 12:43:00    2016-07-06      12:43:00    12   \n",
       "2152297       25   4  2016-07-06 04:15:00    2016-07-06      16:15:00    16   \n",
       "2152298       25   4  2016-07-06 05:35:00    2016-07-06      17:35:00    17   \n",
       "2152299       14   3  2016-07-06 06:21:00    2016-07-06      18:21:00    18   \n",
       "2152300       12   3  2016-07-06 06:52:00    2016-07-06      18:52:00    18   \n",
       "2152301       14   4  2016-07-06 09:56:00    2016-07-06      21:56:00    21   \n",
       "2152302        9   1  2016-07-06 10:16:00    2016-07-06      22:16:00    22   \n",
       "2152303       12   4  2016-07-06 11:47:00    2016-07-06      23:47:00    23   \n",
       "2152304       22   3  2016-07-06 03:14:00    2016-07-06      15:14:00    15   \n",
       "2152305       22   2  2016-07-06 06:31:00    2016-07-06      18:31:00    18   \n",
       "2152306       22   2  2016-07-06 01:10:00    2016-07-06      13:10:00    13   \n",
       "2152307        1   1  2016-07-06 04:42:00    2016-07-06      16:42:00    16   \n",
       "2152308        1   1  2016-07-06 12:49:00    2016-07-06      12:49:00    12   \n",
       "2152309       16   1  2016-07-07 12:09:00    2016-07-07      00:09:00     0   \n",
       "2152310       25   3  2016-07-07 12:31:00    2016-07-07      00:31:00     0   \n",
       "2152311       18   3  2016-07-06 10:21:00    2016-07-06      22:21:00    22   \n",
       "2152312       19   3  2016-07-06 12:43:00    2016-07-06      12:43:00    12   \n",
       "2152313        7   2  2016-07-06 10:52:00    2016-07-06      22:52:00    22   \n",
       "2152314        7   3  2016-07-06 09:51:00    2016-07-06      09:51:00     9   \n",
       "2152315       25   4  2016-07-06 10:31:00    2016-07-06      22:31:00    22   \n",
       "2152316       19   3  2016-07-06 09:54:00    2016-07-06      09:54:00     9   \n",
       "2152317       39   2  2016-07-06 04:16:00    2016-07-06      16:16:00    16   \n",
       "\n",
       "               Dc_Key                Location_Block  UCR_General  \\\n",
       "3        200935061008           5500 BLOCK N 5TH ST       1500.0   \n",
       "4        200909030511           1800 BLOCK WYLIE ST       2600.0   \n",
       "5        201517017705          800 BLOCK S BROAD ST        600.0   \n",
       "6        200923006310          2200 BLOCK RIDGE AVE        800.0   \n",
       "12       201522089374          1500 BLOCK N 15TH ST        600.0   \n",
       "13       201522090172          1500 BLOCK N 17TH ST        600.0   \n",
       "15       201502076521          6500 BLOCK CASTOR AV        600.0   \n",
       "18       201524030846            2800 BLOCK RUTH ST       2400.0   \n",
       "21       201522110572      2600 BLOCK W THOMPSON ST        600.0   \n",
       "22       200915003568       5200 BLOCK HARBISON AVE        600.0   \n",
       "24       200919045006       7500 BLOCK WOODBINE AVE        900.0   \n",
       "25       201518027600        5600 BLOCK CHESTNUT ST        600.0   \n",
       "26       201502078234   4600 BLOCK E ROOSEVELT BLVD        600.0   \n",
       "27       201518068761          4800 BLOCK MARKET ST        600.0   \n",
       "28       201524080438               3000 BLOCK B ST        800.0   \n",
       "29       200914026604             0 BLOCK E HIGH ST        900.0   \n",
       "30       201526012015          1900 BLOCK N 09TH ST       1100.0   \n",
       "31       201519017331           100 BLOCK N 63RD ST        600.0   \n",
       "32       201526027511           300 BLOCK MASTER ST        600.0   \n",
       "34       201519017938            5600 BLOCK VINE ST        600.0   \n",
       "35       201515111714            1600 BLOCK DYRE ST        300.0   \n",
       "36       201519110299         500 BLOCK N HOBART ST        800.0   \n",
       "38       201517056398           800 BLOCK S 17TH ST        600.0   \n",
       "42       200924012783       3700 BLOCK ARAMINGO AVE        600.0   \n",
       "43       201518013984           3600 BLOCK SANSOMST        600.0   \n",
       "44       201519066435        4000 BLOCK MONUMENT RD        600.0   \n",
       "45       201518025247             0 BLOCK S 54TH ST        600.0   \n",
       "49       201518051143           5000 BLOCK CEDAR AV        600.0   \n",
       "52       201522099656        N 22ND ST / DIAMOND ST        300.0   \n",
       "53       201502021075          7000 BLOCK CASTOR AV        600.0   \n",
       "...               ...                           ...          ...   \n",
       "2152288  201624066154         300 BLOCK E GURNEY ST       2600.0   \n",
       "2152289  201606029239          600 BLOCK ADDISON ST        600.0   \n",
       "2152290  201615066030        4500 BLOCK VAN KIRK ST        700.0   \n",
       "2152291  201635059655       5100 BLOCK N WARNOCK ST       2600.0   \n",
       "2152292  201614054519    500 BLOCK E TULPEHOCKEN ST        700.0   \n",
       "2152293  201635059717        200 BLOCK E ASHDALE ST       1400.0   \n",
       "2152294  201626033951          600 BLOCK DIAMOND ST        700.0   \n",
       "2152295  201612048167       2000 BLOCK CEMETERY AVE        700.0   \n",
       "2152296  201602041035          800 BLOCK COTTMAN AV        700.0   \n",
       "2152297  201625056738        3000 BLOCK N DARIEN ST        700.0   \n",
       "2152298  201625056753  1200 BLOCK W WESTMORELAND ST        700.0   \n",
       "2152299  201614054622    200 BLOCK W TULPEHOCKEN ST        700.0   \n",
       "2152300  201612048276       3000 BLOCK DOWITCHER PL        700.0   \n",
       "2152301  201614054711  E SEDGWICK ST / MANSFIELD AV        700.0   \n",
       "2152302  201609026971       200 BLOCK S SYDENHAM ST        700.0   \n",
       "2152303  201612048353          1500 BLOCK S 56TH ST        700.0   \n",
       "2152304  201622056686          1700 BLOCK N 15TH ST        600.0   \n",
       "2152305  201622056714       2600 BLOCK N STANLEY ST        600.0   \n",
       "2152306  201622056667        1900 BLOCK N PATTON ST       1400.0   \n",
       "2152307  201601029941                2301 S 24TH ST       1800.0   \n",
       "2152308  201601029902      2300 BLOCK S CARLISLE ST       2600.0   \n",
       "2152309  201616029060           3800 BLOCK MELON ST       2600.0   \n",
       "2152310  201625056891   500 BLOCK E WESTMORELAND ST       2600.0   \n",
       "2152311  201618049828          3400 BLOCK SPRUCE ST        600.0   \n",
       "2152312  201619062776           5100 BLOCK VIOLA ST        600.0   \n",
       "2152313  201607019377   9200 BLOCK E ROOSEVELT BLVD       1400.0   \n",
       "2152314  201607019317         10700 BLOCK JEANES ST       2600.0   \n",
       "2152315  201625056860     3400 BLOCK GERMANTOWN AVE       1600.0   \n",
       "2152316  201619062744        2100 BLOCK BELMONT AVE        600.0   \n",
       "2152317  201639055508         3700 BLOCK N BROAD ST        800.0   \n",
       "\n",
       "                            Text_General_Code  Police_Districts    Month  \\\n",
       "3                           Weapon Violations              20.0  2009-07   \n",
       "4                          All Other Offenses               8.0  2009-06   \n",
       "5                                      Thefts              13.0  2015-04   \n",
       "6                              Other Assaults              16.0  2009-02   \n",
       "12                                     Thefts              16.0  2015-10   \n",
       "13                                     Thefts              16.0  2015-10   \n",
       "15                                     Thefts               2.0  2015-11   \n",
       "18                         Disorderly Conduct              17.0  2015-04   \n",
       "21                                     Thefts              16.0  2015-12   \n",
       "22                                     Thefts              11.0  2009-01   \n",
       "24                                      Arson              15.0  2009-05   \n",
       "25                                     Thefts              14.0  2015-05   \n",
       "26                                     Thefts               2.0  2015-12   \n",
       "27                                     Thefts              14.0  2015-10   \n",
       "28                             Other Assaults              17.0  2015-08   \n",
       "29                                      Arson              10.0  2009-04   \n",
       "30                                      Fraud              19.0  2015-03   \n",
       "31                                     Thefts              15.0  2015-02   \n",
       "32                         Theft from Vehicle              19.0  2015-06   \n",
       "34                                     Thefts              15.0  2015-02   \n",
       "35                         Robbery No Firearm              11.0  2015-11   \n",
       "36                             Other Assaults              15.0  2015-10   \n",
       "38                         Theft from Vehicle              13.0  2015-11   \n",
       "42                                     Thefts              17.0  2009-02   \n",
       "43                         Theft from Vehicle              14.0  2015-03   \n",
       "44                                     Thefts              15.0  2015-07   \n",
       "45                         Theft from Vehicle              14.0  2015-04   \n",
       "49                         Theft from Vehicle              14.0  2015-08   \n",
       "52                            Robbery Firearm              16.0  2015-11   \n",
       "53                                     Thefts               2.0  2015-04   \n",
       "...                                       ...               ...      ...   \n",
       "2152288                    All Other Offenses              17.0  2016-07   \n",
       "2152289                                Thefts               5.0  2016-07   \n",
       "2152290                   Motor Vehicle Theft              11.0  2016-07   \n",
       "2152291                    All Other Offenses              20.0  2016-07   \n",
       "2152292        Recovered Stolen Motor Vehicle              10.0  2016-07   \n",
       "2152293           Vandalism/Criminal Mischief              20.0  2016-07   \n",
       "2152294        Recovered Stolen Motor Vehicle              19.0  2016-07   \n",
       "2152295        Recovered Stolen Motor Vehicle               9.0  2016-07   \n",
       "2152296        Recovered Stolen Motor Vehicle               2.0  2016-07   \n",
       "2152297        Recovered Stolen Motor Vehicle              18.0  2016-07   \n",
       "2152298        Recovered Stolen Motor Vehicle              18.0  2016-07   \n",
       "2152299        Recovered Stolen Motor Vehicle              10.0  2016-07   \n",
       "2152300        Recovered Stolen Motor Vehicle               9.0  2016-07   \n",
       "2152301        Recovered Stolen Motor Vehicle              10.0  2016-07   \n",
       "2152302        Recovered Stolen Motor Vehicle               8.0  2016-07   \n",
       "2152303        Recovered Stolen Motor Vehicle               9.0  2016-07   \n",
       "2152304                                Thefts              16.0  2016-07   \n",
       "2152305                                Thefts              16.0  2016-07   \n",
       "2152306           Vandalism/Criminal Mischief              16.0  2016-07   \n",
       "2152307        Narcotic / Drug Law Violations               1.0  2016-07   \n",
       "2152308                    All Other Offenses               1.0  2016-07   \n",
       "2152309                    All Other Offenses              12.0  2016-07   \n",
       "2152310                    All Other Offenses              18.0  2016-07   \n",
       "2152311                                Thefts              14.0  2016-07   \n",
       "2152312                    Theft from Vehicle              15.0  2016-07   \n",
       "2152313           Vandalism/Criminal Mischief               6.0  2016-07   \n",
       "2152314                    All Other Offenses               6.0  2016-07   \n",
       "2152315  Prostitution and Commercialized Vice              18.0  2016-07   \n",
       "2152316                                Thefts              15.0  2016-07   \n",
       "2152317                        Other Assaults              21.0  2016-07   \n",
       "\n",
       "               Lon        Lat  \n",
       "3       -75.130477  40.036389  \n",
       "4       -75.166350  39.969532  \n",
       "5       -75.166412  39.940070  \n",
       "6       -75.171149  39.979586  \n",
       "12      -75.160229  39.976134  \n",
       "13      -75.163073  39.977872  \n",
       "15      -75.075602  40.041270  \n",
       "18      -75.122057  39.990907  \n",
       "21      -75.178874  39.975724  \n",
       "22      -75.069032  40.012430  \n",
       "24      -75.266605  39.975197  \n",
       "25      -75.235121  39.959754  \n",
       "26      -75.099584  40.028490  \n",
       "27      -75.217184  39.959005  \n",
       "28      -75.125869  39.995626  \n",
       "29      -75.176900  40.040153  \n",
       "30      -75.148657  39.981381  \n",
       "31      -75.246174  39.965767  \n",
       "32      -75.142238  39.972396  \n",
       "34      -75.231825  39.965636  \n",
       "35      -75.077126  40.020219  \n",
       "36      -75.236743  39.968878  \n",
       "38      -75.171071  39.940641  \n",
       "42      -75.094481  39.994678  \n",
       "43      -75.194694  39.953878  \n",
       "44      -75.213489  40.006611  \n",
       "45      -75.228597  39.960435  \n",
       "49      -75.223059  39.949959  \n",
       "52      -75.169577  39.986415  \n",
       "53      -75.070330  40.046875  \n",
       "...            ...        ...  \n",
       "2152288 -75.126851  39.991360  \n",
       "2152289 -75.153573  39.943621  \n",
       "2152290 -75.063688  40.018353  \n",
       "2152291 -75.140105  40.031147  \n",
       "2152292 -75.172355  40.049036  \n",
       "2152293 -75.119839  40.028327  \n",
       "2152294 -75.144205  39.983064  \n",
       "2152295 -75.235412  39.928959  \n",
       "2152296 -75.086551  40.063034  \n",
       "2152297 -75.144647  39.997414  \n",
       "2152298 -75.148874  40.002664  \n",
       "2152299 -75.184247  40.038120  \n",
       "2152300 -75.227236  39.916454  \n",
       "2152301 -75.176457  40.068267  \n",
       "2152302 -75.166804  39.949085  \n",
       "2152303 -75.227377  39.939153  \n",
       "2152304 -75.159493  39.978954  \n",
       "2152305 -75.181610  39.995924  \n",
       "2152306 -75.185502  39.985549  \n",
       "2152307 -75.186624  39.923593  \n",
       "2152308 -75.171371  39.921865  \n",
       "2152309 -75.197789  39.965101  \n",
       "2152310 -75.120930  39.999063  \n",
       "2152311 -75.193967  39.950587  \n",
       "2152312 -75.222205  39.980259  \n",
       "2152313 -75.032977  40.076877  \n",
       "2152314 -75.025818  40.112286  \n",
       "2152315 -75.149334  40.004298  \n",
       "2152316 -75.217952  39.994274  \n",
       "2152317 -75.151141  40.009978  \n",
       "\n",
       "[2132899 rows x 14 columns]"
      ]
     },
     "execution_count": 5,
     "metadata": {},
     "output_type": "execute_result"
    }
   ],
   "source": [
    "Crimes"
   ]
  },
  {
   "cell_type": "markdown",
   "metadata": {},
   "source": [
    "### Filter for certain district"
   ]
  },
  {
   "cell_type": "code",
   "execution_count": 3,
   "metadata": {
    "ExecuteTime": {
     "end_time": "2016-10-26T11:48:01.556518",
     "start_time": "2016-10-26T11:48:00.576364"
    },
    "collapsed": false
   },
   "outputs": [],
   "source": [
    "# Having : District, Date & Crime type\n",
    "District = 1;\n",
    "FilterData = [x for x in CrimesData[:,[10,2,8,12,13]] if x[0] == District]\n"
   ]
  },
  {
   "cell_type": "markdown",
   "metadata": {},
   "source": [
    "### Sort by date"
   ]
  },
  {
   "cell_type": "code",
   "execution_count": 18,
   "metadata": {
    "ExecuteTime": {
     "end_time": "2016-10-26T11:48:47.074407",
     "start_time": "2016-10-26T11:48:08.218384"
    },
    "collapsed": false
   },
   "outputs": [],
   "source": [
    "from datetime import datetime\n",
    "data = sorted(datainit, key = lambda row: datetime.strptime(row[1], \"%Y-%m-%d %H:%M:%S\"))"
   ]
  },
  {
   "cell_type": "code",
   "execution_count": 45,
   "metadata": {
    "collapsed": false
   },
   "outputs": [],
   "source": [
    "data = datainit"
   ]
  },
  {
   "cell_type": "markdown",
   "metadata": {},
   "source": [
    "### Make the date an int"
   ]
  },
  {
   "cell_type": "code",
   "execution_count": 46,
   "metadata": {
    "ExecuteTime": {
     "end_time": "2016-10-26T11:48:58.965781",
     "start_time": "2016-10-26T11:48:47.076540"
    },
    "collapsed": false
   },
   "outputs": [],
   "source": [
    "newData = []\n",
    "for item in data:\n",
    "    date = ''.join( [c for c in item[1] if c not in ' -:' ] )\n",
    "    year = date[:4]\n",
    "    month = date[4:6]\n",
    "    day = date[6:8]\n",
    "    hour = item[2]\n",
    "    minute = date[10:12]\n",
    "    item[2] = int(item[2])\n",
    "    #lon = float(\"{0:.4f}\".format(item[4]))\n",
    "    #lat = float(\"{0:.4f}\".format(item[5]))\n",
    "    lon = item[4]\n",
    "    lat = item[5]\n",
    "    newData.append([item[0],int(year),int(month),int(day),int(hour),int(minute),lon,lat,item[3]])\n",
    "data = np.array(newData)"
   ]
  },
  {
   "cell_type": "code",
   "execution_count": 9,
   "metadata": {
    "collapsed": false
   },
   "outputs": [
    {
     "data": {
      "text/plain": [
       "(2132899, 9)"
      ]
     },
     "execution_count": 9,
     "metadata": {},
     "output_type": "execute_result"
    }
   ],
   "source": [
    "np.shape(data)"
   ]
  },
  {
   "cell_type": "markdown",
   "metadata": {},
   "source": [
    "### Split - Not by random"
   ]
  },
  {
   "cell_type": "code",
   "execution_count": 47,
   "metadata": {
    "ExecuteTime": {
     "end_time": "2016-10-26T11:49:02.481814",
     "start_time": "2016-10-26T11:49:02.277371"
    },
    "collapsed": false
   },
   "outputs": [
    {
     "data": {
      "text/plain": [
       "1706319"
      ]
     },
     "execution_count": 47,
     "metadata": {},
     "output_type": "execute_result"
    }
   ],
   "source": [
    "#norm = normalizer()\n",
    "\n",
    "#X_train, X_test, y_train, y_test = tt_split(data[:,[0,2,3,4,5,6,7]], data[:,8], test_size=0.4, random_state=1)\n",
    "#X_train_norm = norm.fit_transform(X_train)\n",
    "#X_test = X_test.flatten()\n",
    "#y_train_norm = norm.fit_transform(y_train)\n",
    "#y_test = y_test.flatten()\n",
    "\n",
    "dLength = np.shape(data)[0]\n",
    "\n",
    "trainSize = int(dLength*0.80)\n",
    "\n",
    "X_train = norm.fit_transform(data[:trainSize,[2,3,4,5,6,7]])\n",
    "y_train = data[:trainSize,8]\n",
    "X_test = norm.fit_transform(data[trainSize:,[2,3,4,5,6,7]])\n",
    "y_test = data[trainSize:,8]\n",
    "len(y_train)"
   ]
  },
  {
   "cell_type": "code",
   "execution_count": 11,
   "metadata": {
    "collapsed": false
   },
   "outputs": [
    {
     "data": {
      "text/plain": [
       "(1706319, 7)"
      ]
     },
     "execution_count": 11,
     "metadata": {},
     "output_type": "execute_result"
    }
   ],
   "source": [
    "np.shape(X_train)"
   ]
  },
  {
   "cell_type": "code",
   "execution_count": 34,
   "metadata": {
    "collapsed": false
   },
   "outputs": [
    {
     "ename": "RuntimeError",
     "evalue": "The classifier does not expose \"coef_\" or \"feature_importances_\" attributes",
     "output_type": "error",
     "traceback": [
      "\u001b[0;31m---------------------------------------------------------------------------\u001b[0m",
      "\u001b[0;31mRuntimeError\u001b[0m                              Traceback (most recent call last)",
      "\u001b[0;32m<ipython-input-34-f8616c379cd9>\u001b[0m in \u001b[0;36m<module>\u001b[0;34m()\u001b[0m\n\u001b[1;32m      1\u001b[0m \u001b[0mestimator\u001b[0m \u001b[0;34m=\u001b[0m \u001b[0mMLPClassifier\u001b[0m\u001b[0;34m(\u001b[0m\u001b[0malpha\u001b[0m\u001b[0;34m=\u001b[0m\u001b[0;36m1e-5\u001b[0m\u001b[0;34m,\u001b[0m \u001b[0mactivation\u001b[0m\u001b[0;34m=\u001b[0m\u001b[0;34m'logistic'\u001b[0m\u001b[0;34m,\u001b[0m \u001b[0mhidden_layer_sizes\u001b[0m\u001b[0;34m=\u001b[0m\u001b[0;34m(\u001b[0m\u001b[0;36m5\u001b[0m\u001b[0;34m,\u001b[0m\u001b[0;36m3\u001b[0m\u001b[0;34m)\u001b[0m\u001b[0;34m,\u001b[0m \u001b[0mlearning_rate_init\u001b[0m\u001b[0;34m=\u001b[0m\u001b[0;36m0.01\u001b[0m\u001b[0;34m,\u001b[0m \u001b[0mearly_stopping\u001b[0m\u001b[0;34m=\u001b[0m\u001b[0;32mTrue\u001b[0m\u001b[0;34m)\u001b[0m\u001b[0;34m\u001b[0m\u001b[0m\n\u001b[0;32m----> 2\u001b[0;31m \u001b[0mselector\u001b[0m \u001b[0;34m=\u001b[0m \u001b[0mRFE\u001b[0m\u001b[0;34m(\u001b[0m\u001b[0mestimator\u001b[0m\u001b[0;34m)\u001b[0m\u001b[0;34m.\u001b[0m\u001b[0mfit\u001b[0m\u001b[0;34m(\u001b[0m\u001b[0mX_train\u001b[0m\u001b[0;34m,\u001b[0m \u001b[0my_train\u001b[0m\u001b[0;34m)\u001b[0m\u001b[0;34m\u001b[0m\u001b[0m\n\u001b[0m\u001b[1;32m      3\u001b[0m \u001b[0mselector\u001b[0m\u001b[0;34m.\u001b[0m\u001b[0mranking_\u001b[0m\u001b[0;34m\u001b[0m\u001b[0m\n",
      "\u001b[0;32m/Users/Martin/anaconda/lib/python3.5/site-packages/sklearn/feature_selection/rfe.py\u001b[0m in \u001b[0;36mfit\u001b[0;34m(self, X, y)\u001b[0m\n\u001b[1;32m    133\u001b[0m             \u001b[0mThe\u001b[0m \u001b[0mtarget\u001b[0m \u001b[0mvalues\u001b[0m\u001b[0;34m.\u001b[0m\u001b[0;34m\u001b[0m\u001b[0m\n\u001b[1;32m    134\u001b[0m         \"\"\"\n\u001b[0;32m--> 135\u001b[0;31m         \u001b[0;32mreturn\u001b[0m \u001b[0mself\u001b[0m\u001b[0;34m.\u001b[0m\u001b[0m_fit\u001b[0m\u001b[0;34m(\u001b[0m\u001b[0mX\u001b[0m\u001b[0;34m,\u001b[0m \u001b[0my\u001b[0m\u001b[0;34m)\u001b[0m\u001b[0;34m\u001b[0m\u001b[0m\n\u001b[0m\u001b[1;32m    136\u001b[0m \u001b[0;34m\u001b[0m\u001b[0m\n\u001b[1;32m    137\u001b[0m     \u001b[0;32mdef\u001b[0m \u001b[0m_fit\u001b[0m\u001b[0;34m(\u001b[0m\u001b[0mself\u001b[0m\u001b[0;34m,\u001b[0m \u001b[0mX\u001b[0m\u001b[0;34m,\u001b[0m \u001b[0my\u001b[0m\u001b[0;34m,\u001b[0m \u001b[0mstep_score\u001b[0m\u001b[0;34m=\u001b[0m\u001b[0;32mNone\u001b[0m\u001b[0;34m)\u001b[0m\u001b[0;34m:\u001b[0m\u001b[0;34m\u001b[0m\u001b[0m\n",
      "\u001b[0;32m/Users/Martin/anaconda/lib/python3.5/site-packages/sklearn/feature_selection/rfe.py\u001b[0m in \u001b[0;36m_fit\u001b[0;34m(self, X, y, step_score)\u001b[0m\n\u001b[1;32m    175\u001b[0m                 \u001b[0mcoefs\u001b[0m \u001b[0;34m=\u001b[0m \u001b[0mestimator\u001b[0m\u001b[0;34m.\u001b[0m\u001b[0mfeature_importances_\u001b[0m\u001b[0;34m\u001b[0m\u001b[0m\n\u001b[1;32m    176\u001b[0m             \u001b[0;32melse\u001b[0m\u001b[0;34m:\u001b[0m\u001b[0;34m\u001b[0m\u001b[0m\n\u001b[0;32m--> 177\u001b[0;31m                 raise RuntimeError('The classifier does not expose '\n\u001b[0m\u001b[1;32m    178\u001b[0m                                    \u001b[0;34m'\"coef_\" or \"feature_importances_\" '\u001b[0m\u001b[0;34m\u001b[0m\u001b[0m\n\u001b[1;32m    179\u001b[0m                                    'attributes')\n",
      "\u001b[0;31mRuntimeError\u001b[0m: The classifier does not expose \"coef_\" or \"feature_importances_\" attributes"
     ]
    }
   ],
   "source": [
    "estimator = MLPClassifier(alpha=1e-5, activation='logistic', hidden_layer_sizes=(5,3), learning_rate_init=0.01, early_stopping=True)\n",
    "selector = RFE(estimator).fit(X_train, y_train)\n",
    "selector.ranking_"
   ]
  },
  {
   "cell_type": "code",
   "execution_count": null,
   "metadata": {
    "collapsed": true
   },
   "outputs": [],
   "source": [
    "np.shape(X_train)"
   ]
  },
  {
   "cell_type": "markdown",
   "metadata": {},
   "source": [
    "### PCA"
   ]
  },
  {
   "cell_type": "code",
   "execution_count": 36,
   "metadata": {
    "ExecuteTime": {
     "end_time": "2016-10-25T18:40:14.401136",
     "start_time": "2016-10-25T18:40:14.257047"
    },
    "collapsed": false
   },
   "outputs": [
    {
     "data": {
      "text/html": [
       "<div>\n",
       "<table border=\"1\" class=\"dataframe\">\n",
       "  <thead>\n",
       "    <tr style=\"text-align: right;\">\n",
       "      <th></th>\n",
       "      <th>% of Variance</th>\n",
       "      <th>Cumsum % of Variance</th>\n",
       "    </tr>\n",
       "  </thead>\n",
       "  <tbody>\n",
       "    <tr>\n",
       "      <th>1</th>\n",
       "      <td>0.665706</td>\n",
       "      <td>0.665706</td>\n",
       "    </tr>\n",
       "    <tr>\n",
       "      <th>2</th>\n",
       "      <td>0.186683</td>\n",
       "      <td>0.852389</td>\n",
       "    </tr>\n",
       "    <tr>\n",
       "      <th>3</th>\n",
       "      <td>0.115049</td>\n",
       "      <td>0.967439</td>\n",
       "    </tr>\n",
       "    <tr>\n",
       "      <th>4</th>\n",
       "      <td>0.028176</td>\n",
       "      <td>0.995615</td>\n",
       "    </tr>\n",
       "    <tr>\n",
       "      <th>5</th>\n",
       "      <td>0.004375</td>\n",
       "      <td>0.999990</td>\n",
       "    </tr>\n",
       "    <tr>\n",
       "      <th>6</th>\n",
       "      <td>0.000010</td>\n",
       "      <td>1.000000</td>\n",
       "    </tr>\n",
       "  </tbody>\n",
       "</table>\n",
       "</div>"
      ],
      "text/plain": [
       "   % of Variance  Cumsum % of Variance\n",
       "1       0.665706              0.665706\n",
       "2       0.186683              0.852389\n",
       "3       0.115049              0.967439\n",
       "4       0.028176              0.995615\n",
       "5       0.004375              0.999990\n",
       "6       0.000010              1.000000"
      ]
     },
     "execution_count": 36,
     "metadata": {},
     "output_type": "execute_result"
    }
   ],
   "source": [
    "variance = []\n",
    "pca = PCA(n_components=6).fit(X_train)\n",
    "transformed_data = pca.transform(X_train)\n",
    "variance = pca.explained_variance_ratio_\n",
    "\n",
    "\n",
    "cumsum_variance = np.cumsum(variance)\n",
    "axis = range(len(variance))\n",
    "axis = [x+1 for x in axis]\n",
    "df = pd.DataFrame(index = axis)\n",
    "df['% of Variance'] = variance\n",
    "df['Cumsum % of Variance'] = cumsum_variance\n",
    "#np.round(df[::20], decimals=3)\n",
    "\n",
    "df"
   ]
  },
  {
   "cell_type": "code",
   "execution_count": 37,
   "metadata": {
    "ExecuteTime": {
     "end_time": "2016-10-26T09:17:05.801388",
     "start_time": "2016-10-26T09:17:05.597743"
    },
    "collapsed": false
   },
   "outputs": [
    {
     "data": {
      "image/png": "[encoded data removed]",
      "text/plain": [
       "<matplotlib.figure.Figure at 0x1395a9550>"
      ]
     },
     "metadata": {},
     "output_type": "display_data"
    }
   ],
   "source": [
    "fig = plt.figure()\n",
    "plt.title(\"Describes variance per component\")\n",
    "plt.xlabel('number of components')\n",
    "plt.ylabel('Described Variance')\n",
    "plt.plot(axis,cumsum_variance)\n",
    "fig.savefig('PCA_plot.png')\n",
    "plt.show()"
   ]
  },
  {
   "cell_type": "markdown",
   "metadata": {},
   "source": [
    "## KNN Classification"
   ]
  },
  {
   "cell_type": "markdown",
   "metadata": {},
   "source": [
    "### Find best k"
   ]
  },
  {
   "cell_type": "code",
   "execution_count": 110,
   "metadata": {
    "ExecuteTime": {
     "end_time": "2016-10-25T18:44:29.120246",
     "start_time": "2016-10-25T18:44:29.116367"
    },
    "collapsed": false
   },
   "outputs": [
    {
     "data": {
      "text/plain": [
       "46300"
      ]
     },
     "execution_count": 110,
     "metadata": {},
     "output_type": "execute_result"
    }
   ],
   "source": [
    "len(y_test)"
   ]
  },
  {
   "cell_type": "code",
   "execution_count": null,
   "metadata": {
    "ExecuteTime": {
     "end_time": "2016-10-26T09:11:55.246987",
     "start_time": "2016-10-26T09:09:24.158008"
    },
    "collapsed": false,
    "scrolled": true
   },
   "outputs": [],
   "source": [
    "#rule of thumb: squreroot(37000)=192\n",
    "#242\n",
    "#52!!\n",
    "scores = []\n",
    "k = range(40,60)\n",
    "y_real = [x for x in y_test]\n",
    "for x in k:\n",
    "    knn = KNNCLF(n_neighbors=x, n_jobs=-1, weights='distance')\n",
    "    y = [x for x in y_train]\n",
    "    y_ = knn.fit(X_train,y)\n",
    "    scores.append(y_.score(X_test, y_real))"
   ]
  },
  {
   "cell_type": "code",
   "execution_count": 206,
   "metadata": {
    "ExecuteTime": {
     "end_time": "2016-10-26T09:18:53.899456",
     "start_time": "2016-10-26T09:18:53.641940"
    },
    "collapsed": false
   },
   "outputs": [
    {
     "data": {
      "image/png": "[encoded data removed]",
      "text/plain": [
       "<matplotlib.figure.Figure at 0x17732dd68>"
      ]
     },
     "metadata": {},
     "output_type": "display_data"
    }
   ],
   "source": [
    "fig = plt.figure()\n",
    "plt.title(\"Test for optimal K-value\")\n",
    "plt.xlabel('K-values')\n",
    "plt.ylabel('Precision(%)')\n",
    "plt.plot(k,scores)\n",
    "fig.savefig('bestK.png')\n",
    "plt.show()"
   ]
  },
  {
   "cell_type": "markdown",
   "metadata": {},
   "source": [
    "### Init KNN with best k"
   ]
  },
  {
   "cell_type": "code",
   "execution_count": 29,
   "metadata": {
    "ExecuteTime": {
     "end_time": "2016-10-26T11:49:16.405600",
     "start_time": "2016-10-26T11:49:16.235150"
    },
    "collapsed": true
   },
   "outputs": [],
   "source": [
    "X_predict = X_test\n",
    "y_real = [x for x in y_test]\n",
    "X = X_train\n",
    "y = [x for x in y_train]\n",
    "knn = KNNCLF(n_neighbors=52, n_jobs=-1, weights='distance')\n",
    "y_ = knn.fit(X,y)"
   ]
  },
  {
   "cell_type": "markdown",
   "metadata": {},
   "source": [
    "### Prediction"
   ]
  },
  {
   "cell_type": "code",
   "execution_count": 32,
   "metadata": {
    "ExecuteTime": {
     "end_time": "2016-10-26T11:50:00.135103",
     "start_time": "2016-10-26T11:49:17.529983"
    },
    "collapsed": false
   },
   "outputs": [
    {
     "data": {
      "text/plain": [
       "array([  500.,  1400.,   600., ...,  2600.,  2600.,  2600.])"
      ]
     },
     "execution_count": 32,
     "metadata": {},
     "output_type": "execute_result"
    }
   ],
   "source": [
    "y_predict = y_.predict(X_predict)\n",
    "y_predict"
   ]
  },
  {
   "cell_type": "markdown",
   "metadata": {},
   "source": [
    "### Probability of the predicted value to be true"
   ]
  },
  {
   "cell_type": "code",
   "execution_count": 231,
   "metadata": {
    "ExecuteTime": {
     "end_time": "2016-10-26T11:50:06.106983",
     "start_time": "2016-10-26T11:50:00.136337"
    },
    "collapsed": false
   },
   "outputs": [
    {
     "data": {
      "text/plain": [
       "0.2510835283849725"
      ]
     },
     "execution_count": 231,
     "metadata": {},
     "output_type": "execute_result"
    }
   ],
   "source": [
    "y_proba_predict = y_.predict_proba(X_predict)\n",
    "y_proba = [max(x) for x in y_proba_predict]\n",
    "np.mean(y_proba)"
   ]
  },
  {
   "cell_type": "markdown",
   "metadata": {},
   "source": [
    "### Score of how good the model is"
   ]
  },
  {
   "cell_type": "code",
   "execution_count": 30,
   "metadata": {
    "ExecuteTime": {
     "end_time": "2016-10-26T11:50:10.962147",
     "start_time": "2016-10-26T11:50:06.108514"
    },
    "collapsed": false
   },
   "outputs": [
    {
     "data": {
      "text/plain": [
       "0.25736321440292559"
      ]
     },
     "execution_count": 30,
     "metadata": {},
     "output_type": "execute_result"
    }
   ],
   "source": [
    "y_.score(X_predict, y_real)"
   ]
  },
  {
   "cell_type": "markdown",
   "metadata": {},
   "source": [
    "### Confusion Metric"
   ]
  },
  {
   "cell_type": "code",
   "execution_count": 148,
   "metadata": {
    "ExecuteTime": {
     "end_time": "2016-10-25T16:28:37.570487",
     "start_time": "2016-10-25T16:28:37.548326"
    },
    "collapsed": false
   },
   "outputs": [
    {
     "data": {
      "text/plain": [
       "array([[  0,   0,   0,   0,   0,   0,   0,   1,   0,   0,   0,   0,   0,\n",
       "          0,   0,   0,   0,   0,   0,   0,   0,   0,   0,   1,   0,   2],\n",
       "       [  0,   0,   3,   1,   1,  15,   3,   8,   0,   0,   1,   0,   0,\n",
       "          8,   0,   0,   0,   0,   0,   0,   0,   0,   0,   1,   0,  10],\n",
       "       [  0,   0,  10,  12,  14, 123,   6,  42,   0,   0,   2,   0,   0,\n",
       "         36,   0,   0,   0,   6,   0,   0,   1,   0,   0,   0,   0,  59],\n",
       "       [  0,   0,  17,  19,  10, 147,   7,  59,   0,   0,   7,   0,   0,\n",
       "         32,   0,   0,   0,  14,   0,   0,   2,   0,   0,   1,   0, 103],\n",
       "       [  0,   0,  14,  18,   6, 162,   9,  40,   0,   1,   4,   0,   0,\n",
       "         51,   0,   0,   0,  13,   0,   0,   2,   0,   0,   2,   0,  86],\n",
       "       [  0,   0,  54,  85,  77, 852,  63, 266,   0,   0,  31,   0,   0,\n",
       "        241,   3,   0,   0,  56,   0,   1,   6,   2,   0,   2,   1, 468],\n",
       "       [  0,   0,   7,   9,  19, 147,   9,  39,   0,   0,   3,   0,   0,\n",
       "         49,   0,   0,   1,   4,   0,   0,   0,   0,   0,   1,   0,  94],\n",
       "       [  0,   0,  39,  40,  36, 408,  22, 147,   0,   0,  17,   0,   0,\n",
       "        142,   0,   0,   0,  38,   0,   2,   6,   0,   0,   3,   0, 242],\n",
       "       [  0,   0,   1,   0,   0,   6,   1,   2,   0,   0,   1,   0,   0,\n",
       "          0,   0,   0,   0,   0,   0,   0,   0,   0,   0,   0,   0,   5],\n",
       "       [  0,   0,   1,   0,   0,   5,   0,   1,   0,   0,   0,   0,   0,\n",
       "          1,   0,   0,   0,   1,   0,   0,   0,   0,   0,   0,   0,   4],\n",
       "       [  0,   0,  22,  24,  27, 220,  11,  83,   0,   0,  11,   0,   0,\n",
       "         83,   0,   0,   0,  20,   0,   0,   0,   1,   0,   0,   0, 137],\n",
       "       [  0,   0,   0,   1,   1,  15,   2,   5,   0,   0,   1,   0,   0,\n",
       "          3,   0,   0,   0,   0,   0,   0,   0,   0,   0,   1,   0,   3],\n",
       "       [  0,   0,   0,   0,   0,   1,   0,   0,   0,   0,   0,   0,   0,\n",
       "          0,   0,   0,   0,   0,   0,   0,   0,   0,   0,   0,   0,   1],\n",
       "       [  1,   0,  39,  37,  29, 352,  39, 124,   0,   0,   7,   0,   0,\n",
       "        141,   0,   0,   0,  34,   0,   1,   0,   2,   0,   3,   0, 229],\n",
       "       [  0,   0,   4,   3,   5,  27,   1,   7,   0,   0,   2,   0,   0,\n",
       "          4,   0,   0,   0,   3,   0,   0,   0,   0,   0,   0,   0,  17],\n",
       "       [  0,   0,   0,   0,   0,   0,   0,   0,   0,   0,   0,   0,   0,\n",
       "          0,   0,   0,   0,   0,   0,   0,   0,   0,   0,   0,   0,   1],\n",
       "       [  0,   0,   4,   2,   2,  10,   0,   5,   0,   0,   0,   0,   0,\n",
       "          1,   0,   0,   0,   1,   0,   0,   1,   0,   0,   0,   0,  11],\n",
       "       [  0,   0,  11,  10,   8, 127,   7,  44,   0,   0,   6,   0,   0,\n",
       "         32,   0,   0,   1,  10,   0,   0,   1,   0,   0,   0,   1,  69],\n",
       "       [  0,   0,   0,   0,   0,   0,   0,   0,   0,   0,   0,   0,   0,\n",
       "          1,   0,   0,   0,   0,   0,   0,   0,   0,   0,   0,   0,   0],\n",
       "       [  0,   0,   0,   1,   0,   0,   0,   0,   0,   0,   0,   0,   0,\n",
       "          1,   0,   0,   0,   0,   0,   0,   0,   0,   0,   0,   0,   0],\n",
       "       [  0,   0,   6,   7,   9,  82,   7,  28,   0,   0,   5,   0,   0,\n",
       "         25,   0,   0,   0,   4,   0,   0,   0,   0,   0,   1,   0,  41],\n",
       "       [  0,   0,   0,   0,   1,   7,   1,   2,   0,   0,   0,   0,   0,\n",
       "          0,   0,   0,   0,   0,   0,   0,   0,   0,   0,   0,   0,   2],\n",
       "       [  0,   0,   1,   0,   0,   4,   0,   2,   0,   0,   0,   0,   0,\n",
       "          3,   0,   0,   0,   5,   0,   0,   0,   0,   0,   0,   0,   2],\n",
       "       [  0,   0,   5,   3,   8,  53,   3,  15,   0,   0,   2,   0,   0,\n",
       "         12,   0,   0,   0,   2,   0,   0,   0,   0,   0,   0,   0,  33],\n",
       "       [  0,   0,   0,   1,   0,   4,   0,   1,   0,   0,   0,   0,   0,\n",
       "          1,   0,   0,   0,   0,   0,   0,   0,   0,   0,   0,   0,   0],\n",
       "       [  0,   0,  62,  72,  54, 606,  47, 207,   0,   1,  23,   0,   0,\n",
       "        168,   1,   0,   0,  53,   0,   1,   7,   1,   0,   5,   0, 463]])"
      ]
     },
     "execution_count": 148,
     "metadata": {},
     "output_type": "execute_result"
    }
   ],
   "source": [
    "confusion_matrix(y_real, y_predict)"
   ]
  },
  {
   "cell_type": "markdown",
   "metadata": {},
   "source": [
    "### Heatmap"
   ]
  },
  {
   "cell_type": "code",
   "execution_count": 33,
   "metadata": {
    "ExecuteTime": {
     "end_time": "2016-10-26T11:50:58.159939",
     "start_time": "2016-10-26T11:50:57.748936"
    },
    "collapsed": false
   },
   "outputs": [
    {
     "data": {
      "image/png": "[encoded data removed]",
      "text/plain": [
       "<matplotlib.figure.Figure at 0x19265d080>"
      ]
     },
     "metadata": {},
     "output_type": "display_data"
    }
   ],
   "source": [
    "heatmap, xedges, yedges = np.histogram2d(y_real, y_predict, bins=50)\n",
    "extent = [xedges[0], xedges[-1], yedges[0], yedges[-1]]\n",
    "\n",
    "fig = plt.figure()\n",
    "plt.clf()\n",
    "plt.title(\"Real vs Predicted values\")\n",
    "plt.xlabel('Real value(UCR Code)')\n",
    "plt.ylabel('Predicted value(UCR Code)')\n",
    "plt.imshow(heatmap, extent=extent)\n",
    "fig.savefig('HeatMap.png')\n",
    "plt.show()"
   ]
  },
  {
   "cell_type": "markdown",
   "metadata": {},
   "source": [
    "### Scatter plot showing the real values and the predicted values"
   ]
  },
  {
   "cell_type": "code",
   "execution_count": 13,
   "metadata": {
    "ExecuteTime": {
     "end_time": "2016-10-25T17:39:28.460865",
     "start_time": "2016-10-25T17:39:27.968808"
    },
    "collapsed": false
   },
   "outputs": [
    {
     "data": {
      "image/png": "[encoded data removed]",
      "text/plain": [
       "<matplotlib.figure.Figure at 0x11bd07320>"
      ]
     },
     "metadata": {},
     "output_type": "display_data"
    }
   ],
   "source": [
    "plt.subplot(111)\n",
    "plt.title(\"Real & Predicted values\")\n",
    "plt.xlabel('?')\n",
    "plt.ylabel('UCR Code')\n",
    "plt.scatter(X_predict, y_real, marker='.', c='r', s=200, label='real')\n",
    "plt.scatter(X_predict, y_predict, marker=',',c='g', s=100, label='prediction')\n",
    "plt.axis('tight')\n",
    "plt.legend()\n",
    "\n",
    "plt.show()"
   ]
  },
  {
   "cell_type": "markdown",
   "metadata": {},
   "source": [
    "### 10-fold Cross Validation KNN"
   ]
  },
  {
   "cell_type": "code",
   "execution_count": null,
   "metadata": {
    "ExecuteTime": {
     "end_time": "2016-10-25T16:28:41.424829",
     "start_time": "2016-10-25T16:28:41.418685"
    },
    "collapsed": false
   },
   "outputs": [],
   "source": []
  },
  {
   "cell_type": "code",
   "execution_count": 49,
   "metadata": {
    "ExecuteTime": {
     "end_time": "2016-10-26T11:51:57.852442",
     "start_time": "2016-10-26T11:51:57.537904"
    },
    "collapsed": false
   },
   "outputs": [],
   "source": [
    "knnscores = cross_val(knn, X_train, [x for x in y_train], cv=10)\n",
    "knnciRaw = stats.norm.interval(0.95, loc=knnscores.mean(), scale=knnscores.std())\n",
    "knnci = knnciRaw[1]-knnciRaw[0]\n",
    "knnscoreMean = knnscores.mean()"
   ]
  },
  {
   "cell_type": "markdown",
   "metadata": {},
   "source": [
    "Knn with k = 52 and use of all parameter except year yields 26.4% +- 4.1%"
   ]
  },
  {
   "cell_type": "code",
   "execution_count": 51,
   "metadata": {
    "collapsed": false
   },
   "outputs": [
    {
     "name": "stdout",
     "output_type": "stream",
     "text": [
      "0.264 +- 0.041\n"
     ]
    }
   ],
   "source": [
    "print('%0.003f +- %0.003f' % (knnscoreMean,knnci))"
   ]
  },
  {
   "cell_type": "code",
   "execution_count": 162,
   "metadata": {
    "ExecuteTime": {
     "end_time": "2016-10-25T19:51:34.767702",
     "start_time": "2016-10-25T19:51:34.763391"
    },
    "collapsed": false
   },
   "outputs": [
    {
     "data": {
      "text/plain": [
       "0.18241722556772805"
      ]
     },
     "execution_count": 162,
     "metadata": {},
     "output_type": "execute_result"
    }
   ],
   "source": [
    "knnscores.mean()"
   ]
  },
  {
   "cell_type": "markdown",
   "metadata": {
    "collapsed": true
   },
   "source": [
    "### Silhuette analysis"
   ]
  },
  {
   "cell_type": "code",
   "execution_count": null,
   "metadata": {
    "ExecuteTime": {
     "start_time": "2016-10-25T12:46:20.977Z"
    },
    "collapsed": false
   },
   "outputs": [],
   "source": [
    "range_n_clusters = [13, 14, 15, 16, 17]\n",
    "silhouette_avg = []\n",
    "\n",
    "for n_clusters in range_n_clusters:\n",
    "\n",
    "    clusterer = KMeans(n_clusters=n_clusters, n_jobs=-1)\n",
    "    cluster_labels = clusterer.fit_predict(data[:,[1,2]])\n",
    "\n",
    "    silhouette_avg.append(silhouette_score(data[:,[1,2]], cluster_labels))\n",
    "\n",
    "plt.plot(range_n_clusters,silhouette_avg)\n",
    "plt.show()"
   ]
  },
  {
   "cell_type": "markdown",
   "metadata": {
    "collapsed": true
   },
   "source": [
    "### ANN"
   ]
  },
  {
   "cell_type": "code",
   "execution_count": 9,
   "metadata": {
    "collapsed": false
   },
   "outputs": [
    {
     "data": {
      "text/plain": [
       "(1706319, 7)"
      ]
     },
     "execution_count": 9,
     "metadata": {},
     "output_type": "execute_result"
    }
   ],
   "source": [
    "np.shape(X_train)"
   ]
  },
  {
   "cell_type": "markdown",
   "metadata": {},
   "source": [
    "28,37% (5,3)"
   ]
  },
  {
   "cell_type": "code",
   "execution_count": 53,
   "metadata": {
    "ExecuteTime": {
     "end_time": "2016-10-25T19:29:20.212048",
     "start_time": "2016-10-25T19:29:19.212966"
    },
    "collapsed": false
   },
   "outputs": [
    {
     "data": {
      "text/plain": [
       "0.28065544563739508"
      ]
     },
     "execution_count": 53,
     "metadata": {},
     "output_type": "execute_result"
    }
   ],
   "source": [
    "scores = []\n",
    "for n in range(1,50):\n",
    "    clf = MLPClassifier(alpha=1e-5, activation='logistic', hidden_layer_sizes=(n), learning_rate_init=0.01, early_stopping=True)\n",
    "    clf.fit(X_train, y_train)\n",
    "    #y_predict = clf.predict(X_test_norm)\n",
    "    scores.append(clf.score(X_test, y_test))\n",
    "scores"
   ]
  },
  {
   "cell_type": "code",
   "execution_count": 50,
   "metadata": {
    "collapsed": false
   },
   "outputs": [
    {
     "data": {
      "text/plain": [
       "3"
      ]
     },
     "execution_count": 50,
     "metadata": {},
     "output_type": "execute_result"
    }
   ],
   "source": [
    "clf.n_layers_"
   ]
  },
  {
   "cell_type": "code",
   "execution_count": 51,
   "metadata": {
    "collapsed": false
   },
   "outputs": [
    {
     "data": {
      "text/plain": [
       "5"
      ]
     },
     "execution_count": 51,
     "metadata": {},
     "output_type": "execute_result"
    }
   ],
   "source": [
    "clf.hidden_layer_sizes"
   ]
  },
  {
   "cell_type": "markdown",
   "metadata": {},
   "source": [
    "### 10-fold cross validation ANN"
   ]
  },
  {
   "cell_type": "code",
   "execution_count": 44,
   "metadata": {
    "ExecuteTime": {
     "end_time": "2016-10-25T19:54:27.782768",
     "start_time": "2016-10-25T19:54:14.951878"
    },
    "collapsed": false
   },
   "outputs": [],
   "source": [
    "clf = MLPClassifier(alpha=1e-5, activation='logistic')\n",
    "annscores = cross_val(clf, X_train, [x for x in y_train], cv=10)\n",
    "annciRaw = stats.norm.interval(0.95, loc=annscores.mean(), scale=annscores.std())\n",
    "annci = annciRaw[1]-annciRaw[0]\n",
    "annscoreMean = annscores.mean()"
   ]
  },
  {
   "cell_type": "code",
   "execution_count": 58,
   "metadata": {
    "collapsed": true
   },
   "outputs": [],
   "source": [
    "annciRaw = ciRaw\n",
    "annci = ci\n",
    "annscoreMean = scoreMean"
   ]
  },
  {
   "cell_type": "code",
   "execution_count": 59,
   "metadata": {
    "ExecuteTime": {
     "end_time": "2016-10-25T19:55:16.529751",
     "start_time": "2016-10-25T19:55:16.525024"
    },
    "collapsed": false
   },
   "outputs": [
    {
     "name": "stdout",
     "output_type": "stream",
     "text": [
      "0.277 +- 0.036\n"
     ]
    }
   ],
   "source": [
    "print('%0.003f +- %0.003f' % (annscoreMean,annci))"
   ]
  },
  {
   "cell_type": "code",
   "execution_count": null,
   "metadata": {
    "collapsed": false
   },
   "outputs": [],
   "source": []
  },
  {
   "cell_type": "markdown",
   "metadata": {},
   "source": [
    "Ann with use of all parameter except year yields 27.7% +- 3.6%"
   ]
  },
  {
   "cell_type": "markdown",
   "metadata": {
    "ExecuteTime": {
     "end_time": "2016-10-25T12:23:51.306772",
     "start_time": "2016-10-25T12:23:51.302710"
    },
    "collapsed": false
   },
   "source": [
    "### Bar plot with error bars"
   ]
  },
  {
   "cell_type": "code",
   "execution_count": 64,
   "metadata": {
    "ExecuteTime": {
     "end_time": "2016-10-25T19:56:12.574487",
     "start_time": "2016-10-25T19:56:12.354102"
    },
    "collapsed": false
   },
   "outputs": [
    {
     "data": {
      "image/png": "[encoded data removed]",
      "text/plain": [
       "<matplotlib.figure.Figure at 0x1e9684d30>"
      ]
     },
     "metadata": {},
     "output_type": "display_data"
    }
   ],
   "source": [
    "fig, ax = plt.subplots()\n",
    "knnBar = ax.bar(1, knnscores.mean(), width, color='r', yerr=knnci)\n",
    "annBar = ax.bar(2, annscores.mean(), width, color='y', yerr=annci)\n",
    "\n",
    "ax.set_ylabel('True predictions (%)')\n",
    "ax.set_title('10-fold cross validation for knn and ann')\n",
    "ax.set_xlabel('knn(left) and ann(right)')\n",
    "\n",
    "ax.legend((knnBar[0], annBar[0]), ('knn', 'ann'))\n",
    "\n",
    "fig.savefig('knn and ann bar plot with errors (k = 52) year not in features vector')\n",
    "\n",
    "plt.show()"
   ]
  },
  {
   "cell_type": "code",
   "execution_count": null,
   "metadata": {
    "collapsed": false
   },
   "outputs": [],
   "source": []
  },
  {
   "cell_type": "markdown",
   "metadata": {},
   "source": []
  }
 ],
 "metadata": {
  "anaconda-cloud": {},
  "kernelspec": {
   "display_name": "Python [conda root]",
   "language": "python",
   "name": "conda-root-py"
  },
  "language_info": {
   "codemirror_mode": {
    "name": "ipython",
    "version": 3
   },
   "file_extension": ".py",
   "mimetype": "text/x-python",
   "name": "python",
   "nbconvert_exporter": "python",
   "pygments_lexer": "ipython3",
   "version": "3.5.2"
  }
 },
 "nbformat": 4,
 "nbformat_minor": 1
}

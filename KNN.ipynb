{
 "cells": [
  {
   "cell_type": "code",
   "execution_count": 1,
   "metadata": {
    "collapsed": false
   },
   "outputs": [
    {
     "name": "stderr",
     "output_type": "stream",
     "text": [
      "/Users/Martin/anaconda/lib/python3.5/site-packages/sklearn/cross_validation.py:44: DeprecationWarning: This module was deprecated in version 0.18 in favor of the model_selection module into which all the refactored classes and functions are moved. Also note that the interface of the new CV iterators are different from that of this module. This module will be removed in 0.20.\n",
      "  \"This module will be removed in 0.20.\", DeprecationWarning)\n"
     ]
    }
   ],
   "source": [
    "%run INIT.ipynb"
   ]
  },
  {
   "cell_type": "code",
   "execution_count": 2,
   "metadata": {
    "collapsed": true
   },
   "outputs": [],
   "source": [
    "from sklearn.model_selection import validation_curve as valcurv"
   ]
  },
  {
   "cell_type": "code",
   "execution_count": 10,
   "metadata": {
    "collapsed": false
   },
   "outputs": [],
   "source": [
    "means = []\n",
    "cis = []\n",
    "k = range(1,601,50)\n",
    "y_real = [x for x in y_test]\n",
    "for x in k:\n",
    "    knn = KNNCLF(n_neighbors=x, n_jobs=-1, weights='uniform')\n",
    "    knnscores = cross_val(knn, X_train, [x for x in y_train], cv=5)\n",
    "    knnciRaw = stats.norm.interval(0.95, loc=knnscores.mean(), scale=knnscores.std())\n",
    "    knnci = knnciRaw[1]-knnciRaw[0]\n",
    "    knnscoreMean = knnscores.mean()\n",
    "\n",
    "    means.append(knnscoreMean)\n",
    "    cis.append(knnci)"
   ]
  },
  {
   "cell_type": "code",
   "execution_count": null,
   "metadata": {
    "collapsed": false
   },
   "outputs": [],
   "source": [
    "X_predict = X_test\n",
    "y_real = [x for x in y_test]\n",
    "X = X_train\n",
    "y = [x for x in y_train]\n",
    "knn = KNNCLF(n_neighbors=52, n_jobs=-1, weights='uniform')\n",
    "y_ = knn.fit(X,y)"
   ]
  },
  {
   "cell_type": "code",
   "execution_count": null,
   "metadata": {
    "collapsed": false
   },
   "outputs": [],
   "source": [
    "knnscores = cross_val(knn, X_train, [x for x in y_train], cv=5)\n",
    "knnciRaw = stats.norm.interval(0.95, loc=knnscores.mean(), scale=knnscores.std())\n",
    "knnci = knnciRaw[1]-knnciRaw[0]\n",
    "knnscoreMean = knnscores.mean()"
   ]
  },
  {
   "cell_type": "code",
   "execution_count": null,
   "metadata": {
    "collapsed": false
   },
   "outputs": [],
   "source": [
    "print('%0.003f +- %0.003f' % (knnscoreMean,knnci))"
   ]
  },
  {
   "cell_type": "code",
   "execution_count": 15,
   "metadata": {
    "collapsed": false
   },
   "outputs": [
    {
     "data": {
      "image/png": "[encoded data removed]",
      "text/plain": [
       "<matplotlib.figure.Figure at 0x13c114e48>"
      ]
     },
     "metadata": {},
     "output_type": "display_data"
    }
   ],
   "source": [
    "fig = plt.figure()\n",
    "plt.errorbar(k, means, yerr=cis, fmt='-o')\n",
    "plt.title('variable, symmetric error')\n",
    "fig.savefig('k_means_errorbars.png')\n",
    "plt.show()"
   ]
  },
  {
   "cell_type": "code",
   "execution_count": 3,
   "metadata": {
    "collapsed": false
   },
   "outputs": [],
   "source": [
    "knn = KNNCLF(weights='uniform', n_jobs=4)"
   ]
  },
  {
   "cell_type": "code",
   "execution_count": null,
   "metadata": {
    "collapsed": false
   },
   "outputs": [],
   "source": [
    "train_scores, test_scores = valcurv(knn, X_train, y_train, param_name='n_neighbors', param_range=range(1,601,50), cv=5, scoring='accuracy', n_jobs=1)"
   ]
  },
  {
   "cell_type": "code",
   "execution_count": null,
   "metadata": {
    "collapsed": true
   },
   "outputs": [],
   "source": [
    "param_range = range(1,51,10)\n",
    "train_scores_mean = np.mean(train_scores, axis=1)\n",
    "train_scores_std = np.std(train_scores, axis=1)\n",
    "test_scores_mean = np.mean(test_scores, axis=1)\n",
    "test_scores_std = np.std(test_scores, axis=1)\n",
    "\n",
    "trainciRaw = stats.norm.interval(0.95, loc=train_scores_mean, scale=train_scores_std)\n",
    "trainci = trainciRaw[1]-trainciRaw[0]\n",
    "testciRaw = stats.norm.interval(0.95, loc=test_scores_mean, scale=test_scores_std)\n",
    "testci = testciRaw[1]-testciRaw[0]"
   ]
  },
  {
   "cell_type": "code",
   "execution_count": null,
   "metadata": {
    "collapsed": true
   },
   "outputs": [],
   "source": [
    "fig = plt.figure()\n",
    "plt.title(\"Validation Curve with ANN\")\n",
    "plt.xlabel(\"# of neurons\")\n",
    "plt.ylabel(\"Accuracy (%)\")\n",
    "plt.ylim(0.2, 0.4)\n",
    "lw = 4\n",
    "plt.plot(param_range, train_scores_mean, label=\"Training score\",\n",
    "             color=\"darkorange\", lw=lw)\n",
    "plt.fill_between(param_range, train_scores_mean - trainci/2,\n",
    "                 train_scores_mean + trainci/2, alpha=0.2,\n",
    "                 color=\"darkorange\", lw=lw)\n",
    "plt.plot(param_range, test_scores_mean, label=\"Test score\",\n",
    "             color=\"navy\", lw=lw)\n",
    "plt.fill_between(param_range, test_scores_mean - testci/2,\n",
    "                 test_scores_mean + testci/2, alpha=0.1,\n",
    "                 color=\"navy\", lw=lw)\n",
    "plt.legend(loc=\"best\")\n",
    "fig.savefig('ANN_config.png')\n",
    "plt.show()"
   ]
  }
 ],
 "metadata": {
  "anaconda-cloud": {},
  "kernelspec": {
   "display_name": "Python [conda root]",
   "language": "python",
   "name": "conda-root-py"
  },
  "language_info": {
   "codemirror_mode": {
    "name": "ipython",
    "version": 3
   },
   "file_extension": ".py",
   "mimetype": "text/x-python",
   "name": "python",
   "nbconvert_exporter": "python",
   "pygments_lexer": "ipython3",
   "version": "3.5.2"
  }
 },
 "nbformat": 4,
 "nbformat_minor": 1
}

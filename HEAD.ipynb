{
 "cells": [
  {
   "cell_type": "code",
   "execution_count": null,
   "metadata": {
    "collapsed": false
   },
   "outputs": [],
   "source": [
    "#%run INIT.ipynb\n",
    "%run KNN.ipynb\n",
    "#%run ANN.ipynb"
   ]
  },
  {
   "cell_type": "code",
   "execution_count": null,
   "metadata": {
    "collapsed": false
   },
   "outputs": [],
   "source": [
    "fig = plt.figure()\n",
    "plt.title(\"Test for optimal K-value\")\n",
    "plt.xlabel('K-values')\n",
    "plt.ylabel('Precision(%)')\n",
    "plt.plot(k,scores)\n",
    "fig.savefig('bestK.png')\n",
    "plt.show()"
   ]
  },
  {
   "cell_type": "code",
   "execution_count": null,
   "metadata": {
    "collapsed": false
   },
   "outputs": [],
   "source": [
    "heatmap, xedges, yedges = np.histogram2d(y_real, y_predict, bins=50)\n",
    "extent = [xedges[0], xedges[-1], yedges[0], yedges[-1]]\n",
    "\n",
    "fig = plt.figure()\n",
    "plt.clf()\n",
    "plt.title(\"Real vs Predicted values\")\n",
    "plt.xlabel('Real value(UCR Code)')\n",
    "plt.ylabel('Predicted value(UCR Code)')\n",
    "plt.imshow(heatmap, extent=extent)\n",
    "fig.savefig('HeatMap.png')\n",
    "plt.show()"
   ]
  },
  {
   "cell_type": "code",
   "execution_count": null,
   "metadata": {
    "collapsed": false
   },
   "outputs": [],
   "source": [
    "fig, ax = plt.subplots()\n",
    "knnBar = ax.bar(1, knnscores.mean(), width, color='r', yerr=knnci)\n",
    "annBar = ax.bar(2, annscores.mean(), width, color='y', yerr=annci)\n",
    "\n",
    "ax.set_ylabel('True predictions (%)')\n",
    "ax.set_title('10-fold cross validation for knn and ann')\n",
    "ax.set_xlabel('knn(left) and ann(right)')\n",
    "\n",
    "ax.legend((knnBar[0], annBar[0]), ('knn', 'ann'))\n",
    "\n",
    "fig.savefig('knn and ann bar plot with errors (k = 52) year not in features vector')\n",
    "\n",
    "plt.show()"
   ]
  }
 ],
 "metadata": {
  "anaconda-cloud": {},
  "kernelspec": {
   "display_name": "Python [conda root]",
   "language": "python",
   "name": "conda-root-py"
  },
  "language_info": {
   "codemirror_mode": {
    "name": "ipython",
    "version": 3
   },
   "file_extension": ".py",
   "mimetype": "text/x-python",
   "name": "python",
   "nbconvert_exporter": "python",
   "pygments_lexer": "ipython3",
   "version": "3.5.2"
  }
 },
 "nbformat": 4,
 "nbformat_minor": 1
}
